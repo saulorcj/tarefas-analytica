{
 "cells": [
  {
   "cell_type": "markdown",
   "metadata": {},
   "source": [
    "# Tratamento de Dados 1"
   ]
  },
  {
   "cell_type": "markdown",
   "metadata": {},
   "source": [
    "## Dados sobre o percentual de pessoas próximas da rede de transporte de média e alta capacidade (PNT) \n",
    "\n",
    "Arquivo: [proporcao_pessoas_proximas_pnt](https://basedosdados.org/dataset/br-mobilidados-indicadores?bdm_table=proporcao_pessoas_proximas_pnt)"
   ]
  },
  {
   "cell_type": "code",
   "execution_count": 1,
   "metadata": {},
   "outputs": [],
   "source": [
    "import matplotlib.pyplot as plt\n",
    "import pandas as pd\n",
    "import numpy as np"
   ]
  },
  {
   "cell_type": "code",
   "execution_count": 2,
   "metadata": {},
   "outputs": [],
   "source": [
    "dataset = pd.read_csv(\"../datasets/proporcao_pessoas_proximas_pnt.csv\")"
   ]
  },
  {
   "cell_type": "code",
   "execution_count": 3,
   "metadata": {},
   "outputs": [
    {
     "data": {
      "text/html": [
       "<div>\n",
       "<style scoped>\n",
       "    .dataframe tbody tr th:only-of-type {\n",
       "        vertical-align: middle;\n",
       "    }\n",
       "\n",
       "    .dataframe tbody tr th {\n",
       "        vertical-align: top;\n",
       "    }\n",
       "\n",
       "    .dataframe thead th {\n",
       "        text-align: right;\n",
       "    }\n",
       "</style>\n",
       "<table border=\"1\" class=\"dataframe\">\n",
       "  <thead>\n",
       "    <tr style=\"text-align: right;\">\n",
       "      <th></th>\n",
       "      <th>ano</th>\n",
       "      <th>sigla_uf</th>\n",
       "      <th>id_municipio</th>\n",
       "      <th>indicador</th>\n",
       "      <th>prop_pessoas_proximas_pnt</th>\n",
       "    </tr>\n",
       "  </thead>\n",
       "  <tbody>\n",
       "    <tr>\n",
       "      <th>0</th>\n",
       "      <td>2010</td>\n",
       "      <td>PA</td>\n",
       "      <td>1501402</td>\n",
       "      <td>PNT Geral</td>\n",
       "      <td>0</td>\n",
       "    </tr>\n",
       "    <tr>\n",
       "      <th>1</th>\n",
       "      <td>2010</td>\n",
       "      <td>PA</td>\n",
       "      <td>1501402</td>\n",
       "      <td>PNT 0 1/2</td>\n",
       "      <td>0</td>\n",
       "    </tr>\n",
       "    <tr>\n",
       "      <th>2</th>\n",
       "      <td>2010</td>\n",
       "      <td>PA</td>\n",
       "      <td>1501402</td>\n",
       "      <td>PNT 1/2 1</td>\n",
       "      <td>0</td>\n",
       "    </tr>\n",
       "    <tr>\n",
       "      <th>3</th>\n",
       "      <td>2010</td>\n",
       "      <td>PA</td>\n",
       "      <td>1501402</td>\n",
       "      <td>PNT 1 3</td>\n",
       "      <td>0</td>\n",
       "    </tr>\n",
       "    <tr>\n",
       "      <th>4</th>\n",
       "      <td>2010</td>\n",
       "      <td>PA</td>\n",
       "      <td>1501402</td>\n",
       "      <td>PNT 3 mais</td>\n",
       "      <td>0</td>\n",
       "    </tr>\n",
       "  </tbody>\n",
       "</table>\n",
       "</div>"
      ],
      "text/plain": [
       "    ano sigla_uf  id_municipio   indicador  prop_pessoas_proximas_pnt\n",
       "0  2010       PA       1501402   PNT Geral                          0\n",
       "1  2010       PA       1501402   PNT 0 1/2                          0\n",
       "2  2010       PA       1501402   PNT 1/2 1                          0\n",
       "3  2010       PA       1501402     PNT 1 3                          0\n",
       "4  2010       PA       1501402  PNT 3 mais                          0"
      ]
     },
     "execution_count": 3,
     "metadata": {},
     "output_type": "execute_result"
    }
   ],
   "source": [
    "dataset.head()"
   ]
  },
  {
   "cell_type": "code",
   "execution_count": 4,
   "metadata": {},
   "outputs": [
    {
     "data": {
      "text/plain": [
       "array(['PA', 'MG', 'DF', 'PR', 'CE', 'PE', 'RJ', 'BA', 'SP'], dtype=object)"
      ]
     },
     "execution_count": 4,
     "metadata": {},
     "output_type": "execute_result"
    }
   ],
   "source": [
    "# estados presentes no dataset\n",
    "dataset[\"sigla_uf\"].unique()"
   ]
  },
  {
   "cell_type": "code",
   "execution_count": 5,
   "metadata": {},
   "outputs": [],
   "source": [
    "# HashMap de estados por região\n",
    "regioes = {\"Norte\": {\"PA\"},\n",
    "           \"Nordeste\": {\"CE\", \"PE\", \"BA\"},\n",
    "           \"Sudeste\": {\"MG\", \"RJ\", \"SP\"},\n",
    "           \"Centro-Oeste\": {\"DF\"},\n",
    "           \"Sul\": {\"PR\"}}"
   ]
  },
  {
   "cell_type": "markdown",
   "metadata": {},
   "source": [
    "##### Obervação\n",
    "Vale ressaltar que as regiões Sudeste e Nordeste são as únicas que possuem mais de um estado para representar sua região. Isso pode indicar que suas médias são as mais condizentes com a realidade, ao contrário das outras regiões."
   ]
  },
  {
   "cell_type": "code",
   "execution_count": 6,
   "metadata": {},
   "outputs": [],
   "source": [
    "def get_media_prop_by_regiao(regiao, indicador, ano=2019):\n",
    "    \"\"\"\n",
    "    :param regiao: região a ser selecionada\n",
    "    :param indicador: indicador a ser selecionado\n",
    "    :param ano: ano a ser selecionado\n",
    "    :return: média do percentual de pessoas próximas a redes de transporte\n",
    "    \"\"\"\n",
    "    media = dataset[(dataset[\"ano\"] == ano) & (dataset[\"indicador\"] == indicador) &\n",
    "                    (dataset[\"sigla_uf\"].isin(regioes[regiao]))][\"prop_pessoas_proximas_pnt\"].mean()\n",
    "    return media"
   ]
  },
  {
   "cell_type": "code",
   "execution_count": 7,
   "metadata": {},
   "outputs": [],
   "source": [
    "def get_dvp_prop_by_regiao(regiao, indicador, ano=2019):\n",
    "    \"\"\"\n",
    "    :param regiao: região a ser selecionada\n",
    "    :param indicador: indicador a ser selecionado\n",
    "    :param ano: ano a ser selecionado\n",
    "    :return: desvio padrão do percentual de pessoas próximas a redes de transporte\n",
    "    \"\"\"\n",
    "    media = dataset[(dataset[\"ano\"] == ano) & (dataset[\"indicador\"] == indicador) &\n",
    "                    (dataset[\"sigla_uf\"].isin(regioes[regiao]))][\"prop_pessoas_proximas_pnt\"].std()\n",
    "    return media"
   ]
  },
  {
   "cell_type": "markdown",
   "metadata": {},
   "source": [
    "### Analisando a média da porcentagem geral das regiões entre 2010 e 2019"
   ]
  },
  {
   "cell_type": "code",
   "execution_count": 8,
   "metadata": {},
   "outputs": [
    {
     "data": {
      "text/html": [
       "<div>\n",
       "<style scoped>\n",
       "    .dataframe tbody tr th:only-of-type {\n",
       "        vertical-align: middle;\n",
       "    }\n",
       "\n",
       "    .dataframe tbody tr th {\n",
       "        vertical-align: top;\n",
       "    }\n",
       "\n",
       "    .dataframe thead th {\n",
       "        text-align: right;\n",
       "    }\n",
       "</style>\n",
       "<table border=\"1\" class=\"dataframe\">\n",
       "  <thead>\n",
       "    <tr style=\"text-align: right;\">\n",
       "      <th>regiões</th>\n",
       "      <th>Norte</th>\n",
       "      <th>Nordeste</th>\n",
       "      <th>Sudeste</th>\n",
       "      <th>Centro-Oeste</th>\n",
       "      <th>Sul</th>\n",
       "    </tr>\n",
       "    <tr>\n",
       "      <th>ano</th>\n",
       "      <th></th>\n",
       "      <th></th>\n",
       "      <th></th>\n",
       "      <th></th>\n",
       "      <th></th>\n",
       "    </tr>\n",
       "  </thead>\n",
       "  <tbody>\n",
       "    <tr>\n",
       "      <th>2010</th>\n",
       "      <td>0.0</td>\n",
       "      <td>3.333333</td>\n",
       "      <td>14.666667</td>\n",
       "      <td>9.0</td>\n",
       "      <td>31.0</td>\n",
       "    </tr>\n",
       "    <tr>\n",
       "      <th>2011</th>\n",
       "      <td>0.0</td>\n",
       "      <td>3.333333</td>\n",
       "      <td>14.666667</td>\n",
       "      <td>9.0</td>\n",
       "      <td>31.0</td>\n",
       "    </tr>\n",
       "    <tr>\n",
       "      <th>2012</th>\n",
       "      <td>0.0</td>\n",
       "      <td>3.333333</td>\n",
       "      <td>15.333333</td>\n",
       "      <td>9.0</td>\n",
       "      <td>32.0</td>\n",
       "    </tr>\n",
       "    <tr>\n",
       "      <th>2013</th>\n",
       "      <td>0.0</td>\n",
       "      <td>3.333333</td>\n",
       "      <td>15.666667</td>\n",
       "      <td>9.0</td>\n",
       "      <td>32.0</td>\n",
       "    </tr>\n",
       "    <tr>\n",
       "      <th>2014</th>\n",
       "      <td>0.0</td>\n",
       "      <td>6.333333</td>\n",
       "      <td>21.000000</td>\n",
       "      <td>9.0</td>\n",
       "      <td>32.0</td>\n",
       "    </tr>\n",
       "    <tr>\n",
       "      <th>2015</th>\n",
       "      <td>0.0</td>\n",
       "      <td>7.000000</td>\n",
       "      <td>21.000000</td>\n",
       "      <td>9.0</td>\n",
       "      <td>32.0</td>\n",
       "    </tr>\n",
       "    <tr>\n",
       "      <th>2016</th>\n",
       "      <td>0.0</td>\n",
       "      <td>7.000000</td>\n",
       "      <td>22.333333</td>\n",
       "      <td>9.0</td>\n",
       "      <td>32.0</td>\n",
       "    </tr>\n",
       "    <tr>\n",
       "      <th>2017</th>\n",
       "      <td>4.0</td>\n",
       "      <td>10.333333</td>\n",
       "      <td>22.333333</td>\n",
       "      <td>10.0</td>\n",
       "      <td>32.0</td>\n",
       "    </tr>\n",
       "    <tr>\n",
       "      <th>2018</th>\n",
       "      <td>8.0</td>\n",
       "      <td>11.000000</td>\n",
       "      <td>22.333333</td>\n",
       "      <td>10.0</td>\n",
       "      <td>32.0</td>\n",
       "    </tr>\n",
       "    <tr>\n",
       "      <th>2019</th>\n",
       "      <td>14.0</td>\n",
       "      <td>11.000000</td>\n",
       "      <td>22.666667</td>\n",
       "      <td>10.0</td>\n",
       "      <td>32.0</td>\n",
       "    </tr>\n",
       "  </tbody>\n",
       "</table>\n",
       "</div>"
      ],
      "text/plain": [
       "regiões  Norte   Nordeste    Sudeste  Centro-Oeste   Sul\n",
       "ano                                                     \n",
       "2010       0.0   3.333333  14.666667           9.0  31.0\n",
       "2011       0.0   3.333333  14.666667           9.0  31.0\n",
       "2012       0.0   3.333333  15.333333           9.0  32.0\n",
       "2013       0.0   3.333333  15.666667           9.0  32.0\n",
       "2014       0.0   6.333333  21.000000           9.0  32.0\n",
       "2015       0.0   7.000000  21.000000           9.0  32.0\n",
       "2016       0.0   7.000000  22.333333           9.0  32.0\n",
       "2017       4.0  10.333333  22.333333          10.0  32.0\n",
       "2018       8.0  11.000000  22.333333          10.0  32.0\n",
       "2019      14.0  11.000000  22.666667          10.0  32.0"
      ]
     },
     "execution_count": 8,
     "metadata": {},
     "output_type": "execute_result"
    }
   ],
   "source": [
    "periodo = range(2010, 2020)\n",
    "medias_regiao = [get_media_prop_by_regiao(regiao, \"PNT Geral\", ano) \n",
    "                 for ano in periodo\n",
    "                 for regiao in regioes]\n",
    "df1 = pd.DataFrame(np.array(medias_regiao).reshape(10, 5),\n",
    "                   index=periodo, columns=regioes)\n",
    "df1.index.name, df1.columns.name = \"ano\", \"regiões\"\n",
    "df1"
   ]
  },
  {
   "cell_type": "code",
   "execution_count": 9,
   "metadata": {},
   "outputs": [
    {
     "data": {
      "image/png": "[encoded data removed]",
      "text/plain": [
       "<Figure size 432x288 with 1 Axes>"
      ]
     },
     "metadata": {
      "needs_background": "light"
     },
     "output_type": "display_data"
    }
   ],
   "source": [
    "plt.plot(df1)\n",
    "plt.title(\"Média da porcentagem de pessoas próximas a redes de transporte\")\n",
    "plt.xlabel(\"ano\", size=15)\n",
    "plt.ylabel(\"%\", size=15)\n",
    "plt.legend(regioes, loc=\"upper left\")\n",
    "plt.show()"
   ]
  },
  {
   "cell_type": "markdown",
   "metadata": {},
   "source": [
    "#### Norte\n",
    "É possível notar que a região Norte é a que possui o pior acesso à redes de Transporte. Sua média somente cresce a partir de 2017 e ultrapassa a região Nordeste em 2019, podendo ser um sinal de melhora repentina.\n",
    "#### Nordeste\n",
    "A região Nordeste, no ano de 2010, possui a segunda pior média de acesso à redes de transporte. A média cresce a partir de 2014, porém continua sendo a segunda pior média.\n",
    "#### Sudeste\n",
    "Assim como a região Nordeste, ela passa a crescer a partir de 2014 e se mantém estável até 2019.\n",
    "#### Centro-Oeste\n",
    "A região Nordeste é a terceita pior entre as regiões em 2010 e passa a ser a pior no ano de 2019, o que pode evidenciar um possível atraso em sua modernização em comparação com os outro estados. Essa é também uma reigão que demonstrou somente o crescimento de 1% ao longo dos 10 anos.\n",
    "#### Sul\n",
    "A região Sul é a que possui melhor porcentagem, porém é também uma das que demonstrou pouquísimo avanço ao longo dos 10 anos, avançando somente 1%."
   ]
  },
  {
   "cell_type": "markdown",
   "metadata": {},
   "source": [
    "### Analisando o desvio padrão geral da porcentagem entre 2010 e 2019"
   ]
  },
  {
   "cell_type": "code",
   "execution_count": 10,
   "metadata": {},
   "outputs": [
    {
     "data": {
      "text/html": [
       "<div>\n",
       "<style scoped>\n",
       "    .dataframe tbody tr th:only-of-type {\n",
       "        vertical-align: middle;\n",
       "    }\n",
       "\n",
       "    .dataframe tbody tr th {\n",
       "        vertical-align: top;\n",
       "    }\n",
       "\n",
       "    .dataframe thead th {\n",
       "        text-align: right;\n",
       "    }\n",
       "</style>\n",
       "<table border=\"1\" class=\"dataframe\">\n",
       "  <thead>\n",
       "    <tr style=\"text-align: right;\">\n",
       "      <th></th>\n",
       "      <th>Norte</th>\n",
       "      <th>Nordeste</th>\n",
       "      <th>Sudeste</th>\n",
       "      <th>Centro-Oeste</th>\n",
       "      <th>Sul</th>\n",
       "    </tr>\n",
       "    <tr>\n",
       "      <th>ano</th>\n",
       "      <th></th>\n",
       "      <th></th>\n",
       "      <th></th>\n",
       "      <th></th>\n",
       "      <th></th>\n",
       "    </tr>\n",
       "  </thead>\n",
       "  <tbody>\n",
       "    <tr>\n",
       "      <th>2010</th>\n",
       "      <td>0.0</td>\n",
       "      <td>3.333333</td>\n",
       "      <td>14.666667</td>\n",
       "      <td>9.0</td>\n",
       "      <td>31.0</td>\n",
       "    </tr>\n",
       "    <tr>\n",
       "      <th>2011</th>\n",
       "      <td>0.0</td>\n",
       "      <td>3.333333</td>\n",
       "      <td>14.666667</td>\n",
       "      <td>9.0</td>\n",
       "      <td>31.0</td>\n",
       "    </tr>\n",
       "    <tr>\n",
       "      <th>2012</th>\n",
       "      <td>0.0</td>\n",
       "      <td>3.333333</td>\n",
       "      <td>15.333333</td>\n",
       "      <td>9.0</td>\n",
       "      <td>32.0</td>\n",
       "    </tr>\n",
       "    <tr>\n",
       "      <th>2013</th>\n",
       "      <td>0.0</td>\n",
       "      <td>3.333333</td>\n",
       "      <td>15.666667</td>\n",
       "      <td>9.0</td>\n",
       "      <td>32.0</td>\n",
       "    </tr>\n",
       "    <tr>\n",
       "      <th>2014</th>\n",
       "      <td>0.0</td>\n",
       "      <td>6.333333</td>\n",
       "      <td>21.000000</td>\n",
       "      <td>9.0</td>\n",
       "      <td>32.0</td>\n",
       "    </tr>\n",
       "    <tr>\n",
       "      <th>2015</th>\n",
       "      <td>0.0</td>\n",
       "      <td>7.000000</td>\n",
       "      <td>21.000000</td>\n",
       "      <td>9.0</td>\n",
       "      <td>32.0</td>\n",
       "    </tr>\n",
       "    <tr>\n",
       "      <th>2016</th>\n",
       "      <td>0.0</td>\n",
       "      <td>7.000000</td>\n",
       "      <td>22.333333</td>\n",
       "      <td>9.0</td>\n",
       "      <td>32.0</td>\n",
       "    </tr>\n",
       "    <tr>\n",
       "      <th>2017</th>\n",
       "      <td>4.0</td>\n",
       "      <td>10.333333</td>\n",
       "      <td>22.333333</td>\n",
       "      <td>10.0</td>\n",
       "      <td>32.0</td>\n",
       "    </tr>\n",
       "    <tr>\n",
       "      <th>2018</th>\n",
       "      <td>8.0</td>\n",
       "      <td>11.000000</td>\n",
       "      <td>22.333333</td>\n",
       "      <td>10.0</td>\n",
       "      <td>32.0</td>\n",
       "    </tr>\n",
       "    <tr>\n",
       "      <th>2019</th>\n",
       "      <td>14.0</td>\n",
       "      <td>11.000000</td>\n",
       "      <td>22.666667</td>\n",
       "      <td>10.0</td>\n",
       "      <td>32.0</td>\n",
       "    </tr>\n",
       "  </tbody>\n",
       "</table>\n",
       "</div>"
      ],
      "text/plain": [
       "      Norte   Nordeste    Sudeste  Centro-Oeste   Sul\n",
       "ano                                                  \n",
       "2010    0.0   3.333333  14.666667           9.0  31.0\n",
       "2011    0.0   3.333333  14.666667           9.0  31.0\n",
       "2012    0.0   3.333333  15.333333           9.0  32.0\n",
       "2013    0.0   3.333333  15.666667           9.0  32.0\n",
       "2014    0.0   6.333333  21.000000           9.0  32.0\n",
       "2015    0.0   7.000000  21.000000           9.0  32.0\n",
       "2016    0.0   7.000000  22.333333           9.0  32.0\n",
       "2017    4.0  10.333333  22.333333          10.0  32.0\n",
       "2018    8.0  11.000000  22.333333          10.0  32.0\n",
       "2019   14.0  11.000000  22.666667          10.0  32.0"
      ]
     },
     "execution_count": 10,
     "metadata": {},
     "output_type": "execute_result"
    }
   ],
   "source": [
    "periodo = range(2010, 2020)\n",
    "dvp_regiao = [get_dvp_prop_by_regiao(regiao, \"PNT Geral\", ano) \n",
    "                 for ano in periodo\n",
    "                 for regiao in regioes]\n",
    "df2 = pd.DataFrame(np.array(medias_regiao).reshape(10, 5),\n",
    "                   index=periodo, columns=regioes)\n",
    "df2.index.name, df1.columns.name = \"ano\", \"estados\"\n",
    "df2"
   ]
  },
  {
   "cell_type": "code",
   "execution_count": 14,
   "metadata": {},
   "outputs": [
    {
     "data": {
      "image/png": "[encoded data removed]",
      "text/plain": [
       "<Figure size 432x288 with 1 Axes>"
      ]
     },
     "metadata": {
      "needs_background": "light"
     },
     "output_type": "display_data"
    }
   ],
   "source": [
    "plt.plot(df2[[\"Nordeste\", \"Sudeste\"]])\n",
    "plt.title(\"Desvio padrão da porcentagem de pessoas próximas a redes de transporte\")\n",
    "plt.xlabel(\"ano\", size=15)\n",
    "plt.ylabel(\"%\", size=15)\n",
    "plt.legend([\"Nordeste\", \"Sudeste\"], loc=\"upper left\")\n",
    "plt.show()"
   ]
  }
 ],
 "metadata": {
  "kernelspec": {
   "display_name": "Python 3",
   "language": "python",
   "name": "python3"
  },
  "language_info": {
   "codemirror_mode": {
    "name": "ipython",
    "version": 3
   },
   "file_extension": ".py",
   "mimetype": "text/x-python",
   "name": "python",
   "nbconvert_exporter": "python",
   "pygments_lexer": "ipython3",
   "version": "3.8.10"
  }
 },
 "nbformat": 4,
 "nbformat_minor": 4
}

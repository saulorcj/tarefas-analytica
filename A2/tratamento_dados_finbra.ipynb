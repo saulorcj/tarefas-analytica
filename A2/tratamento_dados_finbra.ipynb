{
 "cells": [
  {
   "cell_type": "markdown",
   "metadata": {},
   "source": [
    "# Tratamento de Dados dos Datasets FINBRA"
   ]
  },
  {
   "cell_type": "markdown",
   "metadata": {},
   "source": [
    "Arquivo: [finbra_2021_tratado.csv](https://siconfi.tesouro.gov.br/siconfi/pages/public/consulta_finbra/finbra_list.jsf)"
   ]
  },
  {
   "cell_type": "markdown",
   "metadata": {},
   "source": [
    "#### Observação\n",
    "Antes de subir o dataset no jupyter notebook, eu exclui as duas primeiras linhas para que só restassem as colunas e seus respectivos dados. Assim, eu deixei que ocorresse um erro ao ler o arquivo '.csv' que ocorria nas primeiras vezes."
   ]
  },
  {
   "cell_type": "code",
   "execution_count": 3,
   "metadata": {
    "id": "wVp-nxHHocbn"
   },
   "outputs": [],
   "source": [
    "import matplotlib.pyplot as plt\n",
    "import seaborn as sns\n",
    "import pandas as pd"
   ]
  },
  {
   "cell_type": "code",
   "execution_count": 4,
   "metadata": {
    "id": "RuxLnMi7rLNV"
   },
   "outputs": [
    {
     "ename": "FileNotFoundError",
     "evalue": "[Errno 2] No such file or directory: '../outros/finbra_2021_tratado.csv'",
     "output_type": "error",
     "traceback": [
      "\u001b[0;31m---------------------------------------------------------------------------\u001b[0m",
      "\u001b[0;31mFileNotFoundError\u001b[0m                         Traceback (most recent call last)",
      "\u001b[0;32m<ipython-input-4-80476784d311>\u001b[0m in \u001b[0;36m<module>\u001b[0;34m\u001b[0m\n\u001b[0;32m----> 1\u001b[0;31m \u001b[0mdataset_2021\u001b[0m \u001b[0;34m=\u001b[0m \u001b[0mpd\u001b[0m\u001b[0;34m.\u001b[0m\u001b[0mread_csv\u001b[0m\u001b[0;34m(\u001b[0m\u001b[0;34m\"../outros/finbra_2021_tratado.csv\"\u001b[0m\u001b[0;34m)\u001b[0m\u001b[0;34m\u001b[0m\u001b[0;34m\u001b[0m\u001b[0m\n\u001b[0m",
      "\u001b[0;32m~/.local/lib/python3.8/site-packages/pandas/io/parsers.py\u001b[0m in \u001b[0;36mread_csv\u001b[0;34m(filepath_or_buffer, sep, delimiter, header, names, index_col, usecols, squeeze, prefix, mangle_dupe_cols, dtype, engine, converters, true_values, false_values, skipinitialspace, skiprows, skipfooter, nrows, na_values, keep_default_na, na_filter, verbose, skip_blank_lines, parse_dates, infer_datetime_format, keep_date_col, date_parser, dayfirst, cache_dates, iterator, chunksize, compression, thousands, decimal, lineterminator, quotechar, quoting, doublequote, escapechar, comment, encoding, dialect, error_bad_lines, warn_bad_lines, delim_whitespace, low_memory, memory_map, float_precision, storage_options)\u001b[0m\n\u001b[1;32m    608\u001b[0m     \u001b[0mkwds\u001b[0m\u001b[0;34m.\u001b[0m\u001b[0mupdate\u001b[0m\u001b[0;34m(\u001b[0m\u001b[0mkwds_defaults\u001b[0m\u001b[0;34m)\u001b[0m\u001b[0;34m\u001b[0m\u001b[0;34m\u001b[0m\u001b[0m\n\u001b[1;32m    609\u001b[0m \u001b[0;34m\u001b[0m\u001b[0m\n\u001b[0;32m--> 610\u001b[0;31m     \u001b[0;32mreturn\u001b[0m \u001b[0m_read\u001b[0m\u001b[0;34m(\u001b[0m\u001b[0mfilepath_or_buffer\u001b[0m\u001b[0;34m,\u001b[0m \u001b[0mkwds\u001b[0m\u001b[0;34m)\u001b[0m\u001b[0;34m\u001b[0m\u001b[0;34m\u001b[0m\u001b[0m\n\u001b[0m\u001b[1;32m    611\u001b[0m \u001b[0;34m\u001b[0m\u001b[0m\n\u001b[1;32m    612\u001b[0m \u001b[0;34m\u001b[0m\u001b[0m\n",
      "\u001b[0;32m~/.local/lib/python3.8/site-packages/pandas/io/parsers.py\u001b[0m in \u001b[0;36m_read\u001b[0;34m(filepath_or_buffer, kwds)\u001b[0m\n\u001b[1;32m    460\u001b[0m \u001b[0;34m\u001b[0m\u001b[0m\n\u001b[1;32m    461\u001b[0m     \u001b[0;31m# Create the parser.\u001b[0m\u001b[0;34m\u001b[0m\u001b[0;34m\u001b[0m\u001b[0;34m\u001b[0m\u001b[0m\n\u001b[0;32m--> 462\u001b[0;31m     \u001b[0mparser\u001b[0m \u001b[0;34m=\u001b[0m \u001b[0mTextFileReader\u001b[0m\u001b[0;34m(\u001b[0m\u001b[0mfilepath_or_buffer\u001b[0m\u001b[0;34m,\u001b[0m \u001b[0;34m**\u001b[0m\u001b[0mkwds\u001b[0m\u001b[0;34m)\u001b[0m\u001b[0;34m\u001b[0m\u001b[0;34m\u001b[0m\u001b[0m\n\u001b[0m\u001b[1;32m    463\u001b[0m \u001b[0;34m\u001b[0m\u001b[0m\n\u001b[1;32m    464\u001b[0m     \u001b[0;32mif\u001b[0m \u001b[0mchunksize\u001b[0m \u001b[0;32mor\u001b[0m \u001b[0miterator\u001b[0m\u001b[0;34m:\u001b[0m\u001b[0;34m\u001b[0m\u001b[0;34m\u001b[0m\u001b[0m\n",
      "\u001b[0;32m~/.local/lib/python3.8/site-packages/pandas/io/parsers.py\u001b[0m in \u001b[0;36m__init__\u001b[0;34m(self, f, engine, **kwds)\u001b[0m\n\u001b[1;32m    817\u001b[0m             \u001b[0mself\u001b[0m\u001b[0;34m.\u001b[0m\u001b[0moptions\u001b[0m\u001b[0;34m[\u001b[0m\u001b[0;34m\"has_index_names\"\u001b[0m\u001b[0;34m]\u001b[0m \u001b[0;34m=\u001b[0m \u001b[0mkwds\u001b[0m\u001b[0;34m[\u001b[0m\u001b[0;34m\"has_index_names\"\u001b[0m\u001b[0;34m]\u001b[0m\u001b[0;34m\u001b[0m\u001b[0;34m\u001b[0m\u001b[0m\n\u001b[1;32m    818\u001b[0m \u001b[0;34m\u001b[0m\u001b[0m\n\u001b[0;32m--> 819\u001b[0;31m         \u001b[0mself\u001b[0m\u001b[0;34m.\u001b[0m\u001b[0m_engine\u001b[0m \u001b[0;34m=\u001b[0m \u001b[0mself\u001b[0m\u001b[0;34m.\u001b[0m\u001b[0m_make_engine\u001b[0m\u001b[0;34m(\u001b[0m\u001b[0mself\u001b[0m\u001b[0;34m.\u001b[0m\u001b[0mengine\u001b[0m\u001b[0;34m)\u001b[0m\u001b[0;34m\u001b[0m\u001b[0;34m\u001b[0m\u001b[0m\n\u001b[0m\u001b[1;32m    820\u001b[0m \u001b[0;34m\u001b[0m\u001b[0m\n\u001b[1;32m    821\u001b[0m     \u001b[0;32mdef\u001b[0m \u001b[0mclose\u001b[0m\u001b[0;34m(\u001b[0m\u001b[0mself\u001b[0m\u001b[0;34m)\u001b[0m\u001b[0;34m:\u001b[0m\u001b[0;34m\u001b[0m\u001b[0;34m\u001b[0m\u001b[0m\n",
      "\u001b[0;32m~/.local/lib/python3.8/site-packages/pandas/io/parsers.py\u001b[0m in \u001b[0;36m_make_engine\u001b[0;34m(self, engine)\u001b[0m\n\u001b[1;32m   1048\u001b[0m             )\n\u001b[1;32m   1049\u001b[0m         \u001b[0;31m# error: Too many arguments for \"ParserBase\"\u001b[0m\u001b[0;34m\u001b[0m\u001b[0;34m\u001b[0m\u001b[0;34m\u001b[0m\u001b[0m\n\u001b[0;32m-> 1050\u001b[0;31m         \u001b[0;32mreturn\u001b[0m \u001b[0mmapping\u001b[0m\u001b[0;34m[\u001b[0m\u001b[0mengine\u001b[0m\u001b[0;34m]\u001b[0m\u001b[0;34m(\u001b[0m\u001b[0mself\u001b[0m\u001b[0;34m.\u001b[0m\u001b[0mf\u001b[0m\u001b[0;34m,\u001b[0m \u001b[0;34m**\u001b[0m\u001b[0mself\u001b[0m\u001b[0;34m.\u001b[0m\u001b[0moptions\u001b[0m\u001b[0;34m)\u001b[0m  \u001b[0;31m# type: ignore[call-arg]\u001b[0m\u001b[0;34m\u001b[0m\u001b[0;34m\u001b[0m\u001b[0m\n\u001b[0m\u001b[1;32m   1051\u001b[0m \u001b[0;34m\u001b[0m\u001b[0m\n\u001b[1;32m   1052\u001b[0m     \u001b[0;32mdef\u001b[0m \u001b[0m_failover_to_python\u001b[0m\u001b[0;34m(\u001b[0m\u001b[0mself\u001b[0m\u001b[0;34m)\u001b[0m\u001b[0;34m:\u001b[0m\u001b[0;34m\u001b[0m\u001b[0;34m\u001b[0m\u001b[0m\n",
      "\u001b[0;32m~/.local/lib/python3.8/site-packages/pandas/io/parsers.py\u001b[0m in \u001b[0;36m__init__\u001b[0;34m(self, src, **kwds)\u001b[0m\n\u001b[1;32m   1865\u001b[0m \u001b[0;34m\u001b[0m\u001b[0m\n\u001b[1;32m   1866\u001b[0m         \u001b[0;31m# open handles\u001b[0m\u001b[0;34m\u001b[0m\u001b[0;34m\u001b[0m\u001b[0;34m\u001b[0m\u001b[0m\n\u001b[0;32m-> 1867\u001b[0;31m         \u001b[0mself\u001b[0m\u001b[0;34m.\u001b[0m\u001b[0m_open_handles\u001b[0m\u001b[0;34m(\u001b[0m\u001b[0msrc\u001b[0m\u001b[0;34m,\u001b[0m \u001b[0mkwds\u001b[0m\u001b[0;34m)\u001b[0m\u001b[0;34m\u001b[0m\u001b[0;34m\u001b[0m\u001b[0m\n\u001b[0m\u001b[1;32m   1868\u001b[0m         \u001b[0;32massert\u001b[0m \u001b[0mself\u001b[0m\u001b[0;34m.\u001b[0m\u001b[0mhandles\u001b[0m \u001b[0;32mis\u001b[0m \u001b[0;32mnot\u001b[0m \u001b[0;32mNone\u001b[0m\u001b[0;34m\u001b[0m\u001b[0;34m\u001b[0m\u001b[0m\n\u001b[1;32m   1869\u001b[0m         \u001b[0;32mfor\u001b[0m \u001b[0mkey\u001b[0m \u001b[0;32min\u001b[0m \u001b[0;34m(\u001b[0m\u001b[0;34m\"storage_options\"\u001b[0m\u001b[0;34m,\u001b[0m \u001b[0;34m\"encoding\"\u001b[0m\u001b[0;34m,\u001b[0m \u001b[0;34m\"memory_map\"\u001b[0m\u001b[0;34m,\u001b[0m \u001b[0;34m\"compression\"\u001b[0m\u001b[0;34m)\u001b[0m\u001b[0;34m:\u001b[0m\u001b[0;34m\u001b[0m\u001b[0;34m\u001b[0m\u001b[0m\n",
      "\u001b[0;32m~/.local/lib/python3.8/site-packages/pandas/io/parsers.py\u001b[0m in \u001b[0;36m_open_handles\u001b[0;34m(self, src, kwds)\u001b[0m\n\u001b[1;32m   1360\u001b[0m         \u001b[0mLet\u001b[0m \u001b[0mthe\u001b[0m \u001b[0mreaders\u001b[0m \u001b[0mopen\u001b[0m \u001b[0mIOHanldes\u001b[0m \u001b[0mafter\u001b[0m \u001b[0mthey\u001b[0m \u001b[0mare\u001b[0m \u001b[0mdone\u001b[0m \u001b[0;32mwith\u001b[0m \u001b[0mtheir\u001b[0m \u001b[0mpotential\u001b[0m \u001b[0mraises\u001b[0m\u001b[0;34m.\u001b[0m\u001b[0;34m\u001b[0m\u001b[0;34m\u001b[0m\u001b[0m\n\u001b[1;32m   1361\u001b[0m         \"\"\"\n\u001b[0;32m-> 1362\u001b[0;31m         self.handles = get_handle(\n\u001b[0m\u001b[1;32m   1363\u001b[0m             \u001b[0msrc\u001b[0m\u001b[0;34m,\u001b[0m\u001b[0;34m\u001b[0m\u001b[0;34m\u001b[0m\u001b[0m\n\u001b[1;32m   1364\u001b[0m             \u001b[0;34m\"r\"\u001b[0m\u001b[0;34m,\u001b[0m\u001b[0;34m\u001b[0m\u001b[0;34m\u001b[0m\u001b[0m\n",
      "\u001b[0;32m~/.local/lib/python3.8/site-packages/pandas/io/common.py\u001b[0m in \u001b[0;36mget_handle\u001b[0;34m(path_or_buf, mode, encoding, compression, memory_map, is_text, errors, storage_options)\u001b[0m\n\u001b[1;32m    640\u001b[0m                 \u001b[0merrors\u001b[0m \u001b[0;34m=\u001b[0m \u001b[0;34m\"replace\"\u001b[0m\u001b[0;34m\u001b[0m\u001b[0;34m\u001b[0m\u001b[0m\n\u001b[1;32m    641\u001b[0m             \u001b[0;31m# Encoding\u001b[0m\u001b[0;34m\u001b[0m\u001b[0;34m\u001b[0m\u001b[0;34m\u001b[0m\u001b[0m\n\u001b[0;32m--> 642\u001b[0;31m             handle = open(\n\u001b[0m\u001b[1;32m    643\u001b[0m                 \u001b[0mhandle\u001b[0m\u001b[0;34m,\u001b[0m\u001b[0;34m\u001b[0m\u001b[0;34m\u001b[0m\u001b[0m\n\u001b[1;32m    644\u001b[0m                 \u001b[0mioargs\u001b[0m\u001b[0;34m.\u001b[0m\u001b[0mmode\u001b[0m\u001b[0;34m,\u001b[0m\u001b[0;34m\u001b[0m\u001b[0;34m\u001b[0m\u001b[0m\n",
      "\u001b[0;31mFileNotFoundError\u001b[0m: [Errno 2] No such file or directory: '../outros/finbra_2021_tratado.csv'"
     ]
    }
   ],
   "source": [
    "dataset_2021 = pd.read_csv(\"../outros/finbra_2021_tratado.csv\")"
   ]
  },
  {
   "cell_type": "code",
   "execution_count": null,
   "metadata": {
    "id": "fZd6jyZWrTP8"
   },
   "outputs": [],
   "source": [
    "dataset_2021 = dataset_2021[(dataset_2021[\"Conta\"] == \"26 - Transporte\") & \n",
    "                  (dataset_2021[\"Coluna\"] == \"Despesas Pagas\")][[\"Cod_municipio\", \"UF\", \"Valor\"]]"
   ]
  },
  {
   "cell_type": "code",
   "execution_count": null,
   "metadata": {
    "colab": {
     "base_uri": "https://localhost:8080/",
     "height": 206
    },
    "id": "Bom0X5Zhr_1C",
    "outputId": "fa85838b-136d-463a-983f-f3092119502f"
   },
   "outputs": [],
   "source": [
    "dataset_2021.head()"
   ]
  },
  {
   "cell_type": "code",
   "execution_count": 5,
   "metadata": {
    "id": "PsfoFbT3sKxp"
   },
   "outputs": [],
   "source": [
    "# HashMap de estados por região\n",
    "regioes = {\"Norte\": {\"PA\", \"RR\", \"AP\", \"AM\", \"TO\", \"RO\", \"AC\", \"MA\"},\n",
    "           \"Nordeste\": {\"SE\", \"CE\", \"PB\", \"AL\", \"RN\", \"PE\", \"BA\", \"PI\"},\n",
    "           \"Sudeste\": {\"MG\", \"RJ\", \"SP\", \"ES\"},\n",
    "           \"Centro-Oeste\": {\"DF\", \"MS\", \"MT\", \"GO\"},\n",
    "           \"Sul\": {\"PR\", \"SC\", \"RS\"}}"
   ]
  },
  {
   "cell_type": "markdown",
   "metadata": {},
   "source": [
    "### Analisando as médias de investimento das regiões em 2021"
   ]
  },
  {
   "cell_type": "code",
   "execution_count": 6,
   "metadata": {
    "id": "2HmClPS9sO03"
   },
   "outputs": [],
   "source": [
    "lista_medias = []\n",
    "for regiao in regioes:\n",
    "  media = int(dataset_2021[dataset_2021[\"UF\"].isin(regioes[regiao])][\"Valor\"].mean())\n",
    "  lista_medias.append(media)\n",
    "\n",
    "df_medias_2021 = pd.DataFrame(lista_medias, index=regioes, columns=[\"media\"]).sort_values(by=\"media\", ascending=False)"
   ]
  },
  {
   "cell_type": "code",
   "execution_count": 7,
   "metadata": {
    "colab": {
     "base_uri": "https://localhost:8080/",
     "height": 206
    },
    "id": "zTEw9lKq1JYS",
    "outputId": "28764ab6-bbc0-4547-ec09-c953cb760370"
   },
   "outputs": [
    {
     "data": {
      "text/html": [
       "<div>\n",
       "<style scoped>\n",
       "    .dataframe tbody tr th:only-of-type {\n",
       "        vertical-align: middle;\n",
       "    }\n",
       "\n",
       "    .dataframe tbody tr th {\n",
       "        vertical-align: top;\n",
       "    }\n",
       "\n",
       "    .dataframe thead th {\n",
       "        text-align: right;\n",
       "    }\n",
       "</style>\n",
       "<table border=\"1\" class=\"dataframe\">\n",
       "  <thead>\n",
       "    <tr style=\"text-align: right;\">\n",
       "      <th></th>\n",
       "      <th>media</th>\n",
       "    </tr>\n",
       "  </thead>\n",
       "  <tbody>\n",
       "    <tr>\n",
       "      <th>Sudeste</th>\n",
       "      <td>6844551</td>\n",
       "    </tr>\n",
       "    <tr>\n",
       "      <th>Centro-Oeste</th>\n",
       "      <td>3880576</td>\n",
       "    </tr>\n",
       "    <tr>\n",
       "      <th>Norte</th>\n",
       "      <td>3302650</td>\n",
       "    </tr>\n",
       "    <tr>\n",
       "      <th>Sul</th>\n",
       "      <td>3201229</td>\n",
       "    </tr>\n",
       "    <tr>\n",
       "      <th>Nordeste</th>\n",
       "      <td>1122277</td>\n",
       "    </tr>\n",
       "  </tbody>\n",
       "</table>\n",
       "</div>"
      ],
      "text/plain": [
       "                media\n",
       "Sudeste       6844551\n",
       "Centro-Oeste  3880576\n",
       "Norte         3302650\n",
       "Sul           3201229\n",
       "Nordeste      1122277"
      ]
     },
     "execution_count": 7,
     "metadata": {},
     "output_type": "execute_result"
    }
   ],
   "source": [
    "df_medias_2021"
   ]
  },
  {
   "cell_type": "code",
   "execution_count": 8,
   "metadata": {
    "id": "-pNNsnnrz5i3"
   },
   "outputs": [],
   "source": [
    "dataset_2013 = pd.read_csv(\"../outros/finbra_2013_tratado.csv\")"
   ]
  },
  {
   "cell_type": "code",
   "execution_count": 9,
   "metadata": {
    "id": "5PF5XYgv0xMa"
   },
   "outputs": [],
   "source": [
    "dataset_2013 = dataset_2013[(dataset_2013[\"Conta\"] == \"26 - Transporte\") & \n",
    "                            (dataset_2013[\"Coluna\"] == \"Despesas Pagas\")][[\"Cod_municipio\", \"UF\", \"Valor\"]]"
   ]
  },
  {
   "cell_type": "code",
   "execution_count": 10,
   "metadata": {
    "colab": {
     "base_uri": "https://localhost:8080/",
     "height": 206
    },
    "id": "arT78G7i03zs",
    "outputId": "bf6c814f-12ec-4485-f1ae-e9f1f71c832c"
   },
   "outputs": [
    {
     "data": {
      "text/html": [
       "<div>\n",
       "<style scoped>\n",
       "    .dataframe tbody tr th:only-of-type {\n",
       "        vertical-align: middle;\n",
       "    }\n",
       "\n",
       "    .dataframe tbody tr th {\n",
       "        vertical-align: top;\n",
       "    }\n",
       "\n",
       "    .dataframe thead th {\n",
       "        text-align: right;\n",
       "    }\n",
       "</style>\n",
       "<table border=\"1\" class=\"dataframe\">\n",
       "  <thead>\n",
       "    <tr style=\"text-align: right;\">\n",
       "      <th></th>\n",
       "      <th>Cod_municipio</th>\n",
       "      <th>UF</th>\n",
       "      <th>Valor</th>\n",
       "    </tr>\n",
       "  </thead>\n",
       "  <tbody>\n",
       "    <tr>\n",
       "      <th>98</th>\n",
       "      <td>4126652.0</td>\n",
       "      <td>PR</td>\n",
       "      <td>1583648.0</td>\n",
       "    </tr>\n",
       "    <tr>\n",
       "      <th>259</th>\n",
       "      <td>4206652.0</td>\n",
       "      <td>SC</td>\n",
       "      <td>1582579.0</td>\n",
       "    </tr>\n",
       "    <tr>\n",
       "      <th>457</th>\n",
       "      <td>4310405.0</td>\n",
       "      <td>RS</td>\n",
       "      <td>413069.0</td>\n",
       "    </tr>\n",
       "    <tr>\n",
       "      <th>625</th>\n",
       "      <td>4322533.0</td>\n",
       "      <td>RS</td>\n",
       "      <td>1378911.0</td>\n",
       "    </tr>\n",
       "    <tr>\n",
       "      <th>866</th>\n",
       "      <td>4318705.0</td>\n",
       "      <td>RS</td>\n",
       "      <td>774243.0</td>\n",
       "    </tr>\n",
       "  </tbody>\n",
       "</table>\n",
       "</div>"
      ],
      "text/plain": [
       "     Cod_municipio  UF      Valor\n",
       "98       4126652.0  PR  1583648.0\n",
       "259      4206652.0  SC  1582579.0\n",
       "457      4310405.0  RS   413069.0\n",
       "625      4322533.0  RS  1378911.0\n",
       "866      4318705.0  RS   774243.0"
      ]
     },
     "execution_count": 10,
     "metadata": {},
     "output_type": "execute_result"
    }
   ],
   "source": [
    "dataset_2013.head()"
   ]
  },
  {
   "cell_type": "markdown",
   "metadata": {},
   "source": [
    "### Analisando as médias de investimento das regiões em 2021"
   ]
  },
  {
   "cell_type": "code",
   "execution_count": 11,
   "metadata": {
    "id": "mZlvmzNW079W"
   },
   "outputs": [],
   "source": [
    "lista_medias = []\n",
    "for regiao in regioes:\n",
    "  media = int(dataset_2013[dataset_2013[\"UF\"].isin(regioes[regiao])][\"Valor\"].mean())\n",
    "  lista_medias.append(media)\n",
    "\n",
    "df_medias_2013 = pd.DataFrame(lista_medias, index=regioes, columns=[\"media\"]).sort_values(by=\"media\", ascending=False)"
   ]
  },
  {
   "cell_type": "code",
   "execution_count": 12,
   "metadata": {
    "colab": {
     "base_uri": "https://localhost:8080/",
     "height": 206
    },
    "id": "YFRBfdsE1F_C",
    "outputId": "c1f2e68e-b500-422e-e01b-87a9b6b638aa"
   },
   "outputs": [
    {
     "data": {
      "text/html": [
       "<div>\n",
       "<style scoped>\n",
       "    .dataframe tbody tr th:only-of-type {\n",
       "        vertical-align: middle;\n",
       "    }\n",
       "\n",
       "    .dataframe tbody tr th {\n",
       "        vertical-align: top;\n",
       "    }\n",
       "\n",
       "    .dataframe thead th {\n",
       "        text-align: right;\n",
       "    }\n",
       "</style>\n",
       "<table border=\"1\" class=\"dataframe\">\n",
       "  <thead>\n",
       "    <tr style=\"text-align: right;\">\n",
       "      <th></th>\n",
       "      <th>media</th>\n",
       "    </tr>\n",
       "  </thead>\n",
       "  <tbody>\n",
       "    <tr>\n",
       "      <th>Sudeste</th>\n",
       "      <td>3644537</td>\n",
       "    </tr>\n",
       "    <tr>\n",
       "      <th>Centro-Oeste</th>\n",
       "      <td>1835748</td>\n",
       "    </tr>\n",
       "    <tr>\n",
       "      <th>Sul</th>\n",
       "      <td>1639701</td>\n",
       "    </tr>\n",
       "    <tr>\n",
       "      <th>Norte</th>\n",
       "      <td>1339501</td>\n",
       "    </tr>\n",
       "    <tr>\n",
       "      <th>Nordeste</th>\n",
       "      <td>469182</td>\n",
       "    </tr>\n",
       "  </tbody>\n",
       "</table>\n",
       "</div>"
      ],
      "text/plain": [
       "                media\n",
       "Sudeste       3644537\n",
       "Centro-Oeste  1835748\n",
       "Sul           1639701\n",
       "Norte         1339501\n",
       "Nordeste       469182"
      ]
     },
     "execution_count": 12,
     "metadata": {},
     "output_type": "execute_result"
    }
   ],
   "source": [
    "df_medias_2013"
   ]
  },
  {
   "cell_type": "markdown",
   "metadata": {},
   "source": [
    "### Analisando o aumento em porcentagem do investimento em transporte entre 2013 e 2021"
   ]
  },
  {
   "cell_type": "code",
   "execution_count": 13,
   "metadata": {
    "colab": {
     "base_uri": "https://localhost:8080/",
     "height": 206
    },
    "id": "S44WtriG1P7J",
    "outputId": "1c924279-96d6-4612-a6c8-921365d94dd0"
   },
   "outputs": [
    {
     "data": {
      "text/html": [
       "<div>\n",
       "<style scoped>\n",
       "    .dataframe tbody tr th:only-of-type {\n",
       "        vertical-align: middle;\n",
       "    }\n",
       "\n",
       "    .dataframe tbody tr th {\n",
       "        vertical-align: top;\n",
       "    }\n",
       "\n",
       "    .dataframe thead th {\n",
       "        text-align: right;\n",
       "    }\n",
       "</style>\n",
       "<table border=\"1\" class=\"dataframe\">\n",
       "  <thead>\n",
       "    <tr style=\"text-align: right;\">\n",
       "      <th></th>\n",
       "      <th>media</th>\n",
       "    </tr>\n",
       "  </thead>\n",
       "  <tbody>\n",
       "    <tr>\n",
       "      <th>Norte</th>\n",
       "      <td>1.465582</td>\n",
       "    </tr>\n",
       "    <tr>\n",
       "      <th>Nordeste</th>\n",
       "      <td>1.391986</td>\n",
       "    </tr>\n",
       "    <tr>\n",
       "      <th>Centro-Oeste</th>\n",
       "      <td>1.113894</td>\n",
       "    </tr>\n",
       "    <tr>\n",
       "      <th>Sul</th>\n",
       "      <td>0.952325</td>\n",
       "    </tr>\n",
       "    <tr>\n",
       "      <th>Sudeste</th>\n",
       "      <td>0.878030</td>\n",
       "    </tr>\n",
       "  </tbody>\n",
       "</table>\n",
       "</div>"
      ],
      "text/plain": [
       "                 media\n",
       "Norte         1.465582\n",
       "Nordeste      1.391986\n",
       "Centro-Oeste  1.113894\n",
       "Sul           0.952325\n",
       "Sudeste       0.878030"
      ]
     },
     "execution_count": 13,
     "metadata": {},
     "output_type": "execute_result"
    }
   ],
   "source": [
    "((df_medias_2021 - df_medias_2013) / df_medias_2013).sort_values(by=\"media\", ascending=False)"
   ]
  },
  {
   "cell_type": "markdown",
   "metadata": {},
   "source": [
    "#### Observação\n",
    "Podemos notar que as regiões Norte, Nordeste e Centro-Oeste tiveram os maiores aumentos de investimento, visto que os investimentos em 2021 mais que dobraram em relação a 2013. Sul e Sudeste tiveram um aumento menor, porém ainda sim grande."
   ]
  },
  {
   "cell_type": "code",
   "execution_count": 14,
   "metadata": {
    "id": "98CWPE2z372X"
   },
   "outputs": [],
   "source": [
    "df_valor_2021 = pd.DataFrame(dataset_2021[[\"UF\", \"Valor\"]].values, index=dataset_2021[\"Cod_municipio\"].values, columns=[\"UF\", \"Valor\"]).sort_values(by=\"Valor\", ascending=False)"
   ]
  },
  {
   "cell_type": "code",
   "execution_count": 15,
   "metadata": {
    "colab": {
     "base_uri": "https://localhost:8080/",
     "height": 424
    },
    "id": "9Yr0Vcld4vdb",
    "outputId": "229cabe6-86b3-413f-88b6-9f856a243504"
   },
   "outputs": [
    {
     "data": {
      "text/html": [
       "<div>\n",
       "<style scoped>\n",
       "    .dataframe tbody tr th:only-of-type {\n",
       "        vertical-align: middle;\n",
       "    }\n",
       "\n",
       "    .dataframe tbody tr th {\n",
       "        vertical-align: top;\n",
       "    }\n",
       "\n",
       "    .dataframe thead th {\n",
       "        text-align: right;\n",
       "    }\n",
       "</style>\n",
       "<table border=\"1\" class=\"dataframe\">\n",
       "  <thead>\n",
       "    <tr style=\"text-align: right;\">\n",
       "      <th></th>\n",
       "      <th>UF</th>\n",
       "      <th>Valor</th>\n",
       "    </tr>\n",
       "  </thead>\n",
       "  <tbody>\n",
       "    <tr>\n",
       "      <th>3550308.0</th>\n",
       "      <td>SP</td>\n",
       "      <td>5324269999.0</td>\n",
       "    </tr>\n",
       "    <tr>\n",
       "      <th>1302603.0</th>\n",
       "      <td>AM</td>\n",
       "      <td>289582742.0</td>\n",
       "    </tr>\n",
       "    <tr>\n",
       "      <th>5208707.0</th>\n",
       "      <td>GO</td>\n",
       "      <td>280956302.0</td>\n",
       "    </tr>\n",
       "    <tr>\n",
       "      <th>3304557.0</th>\n",
       "      <td>RJ</td>\n",
       "      <td>279951442.0</td>\n",
       "    </tr>\n",
       "    <tr>\n",
       "      <th>2927408.0</th>\n",
       "      <td>BA</td>\n",
       "      <td>248418640.0</td>\n",
       "    </tr>\n",
       "    <tr>\n",
       "      <th>...</th>\n",
       "      <td>...</td>\n",
       "      <td>...</td>\n",
       "    </tr>\n",
       "    <tr>\n",
       "      <th>2911006.0</th>\n",
       "      <td>BA</td>\n",
       "      <td>71.0</td>\n",
       "    </tr>\n",
       "    <tr>\n",
       "      <th>2911501.0</th>\n",
       "      <td>BA</td>\n",
       "      <td>51.0</td>\n",
       "    </tr>\n",
       "    <tr>\n",
       "      <th>2922656.0</th>\n",
       "      <td>BA</td>\n",
       "      <td>23.0</td>\n",
       "    </tr>\n",
       "    <tr>\n",
       "      <th>5218789.0</th>\n",
       "      <td>GO</td>\n",
       "      <td>10.0</td>\n",
       "    </tr>\n",
       "    <tr>\n",
       "      <th>4126009.0</th>\n",
       "      <td>PR</td>\n",
       "      <td>5.0</td>\n",
       "    </tr>\n",
       "  </tbody>\n",
       "</table>\n",
       "<p>4109 rows × 2 columns</p>\n",
       "</div>"
      ],
      "text/plain": [
       "           UF         Valor\n",
       "3550308.0  SP  5324269999.0\n",
       "1302603.0  AM   289582742.0\n",
       "5208707.0  GO   280956302.0\n",
       "3304557.0  RJ   279951442.0\n",
       "2927408.0  BA   248418640.0\n",
       "...        ..           ...\n",
       "2911006.0  BA          71.0\n",
       "2911501.0  BA          51.0\n",
       "2922656.0  BA          23.0\n",
       "5218789.0  GO          10.0\n",
       "4126009.0  PR           5.0\n",
       "\n",
       "[4109 rows x 2 columns]"
      ]
     },
     "execution_count": 15,
     "metadata": {},
     "output_type": "execute_result"
    }
   ],
   "source": [
    "df_valor_2021"
   ]
  },
  {
   "cell_type": "code",
   "execution_count": 16,
   "metadata": {
    "id": "N07GmGbD3_es"
   },
   "outputs": [],
   "source": [
    "df_valor_2013 = pd.DataFrame(dataset_2013[[\"UF\", \"Valor\"]].values, index=dataset_2013[\"Cod_municipio\"].values, columns=[\"UF\", \"Valor\"]).sort_values(by=\"Valor\", ascending=False)"
   ]
  },
  {
   "cell_type": "code",
   "execution_count": 17,
   "metadata": {
    "colab": {
     "base_uri": "https://localhost:8080/",
     "height": 424
    },
    "id": "YZPOZQT546M5",
    "outputId": "4ba004bf-9a8a-4441-b79f-25bb9e3aedce"
   },
   "outputs": [
    {
     "data": {
      "text/html": [
       "<div>\n",
       "<style scoped>\n",
       "    .dataframe tbody tr th:only-of-type {\n",
       "        vertical-align: middle;\n",
       "    }\n",
       "\n",
       "    .dataframe tbody tr th {\n",
       "        vertical-align: top;\n",
       "    }\n",
       "\n",
       "    .dataframe thead th {\n",
       "        text-align: right;\n",
       "    }\n",
       "</style>\n",
       "<table border=\"1\" class=\"dataframe\">\n",
       "  <thead>\n",
       "    <tr style=\"text-align: right;\">\n",
       "      <th></th>\n",
       "      <th>UF</th>\n",
       "      <th>Valor</th>\n",
       "    </tr>\n",
       "  </thead>\n",
       "  <tbody>\n",
       "    <tr>\n",
       "      <th>3550308.0</th>\n",
       "      <td>SP</td>\n",
       "      <td>2550654348.0</td>\n",
       "    </tr>\n",
       "    <tr>\n",
       "      <th>3106200.0</th>\n",
       "      <td>MG</td>\n",
       "      <td>345302536.0</td>\n",
       "    </tr>\n",
       "    <tr>\n",
       "      <th>3304557.0</th>\n",
       "      <td>RJ</td>\n",
       "      <td>222076641.0</td>\n",
       "    </tr>\n",
       "    <tr>\n",
       "      <th>3548708.0</th>\n",
       "      <td>SP</td>\n",
       "      <td>205256422.0</td>\n",
       "    </tr>\n",
       "    <tr>\n",
       "      <th>5002704.0</th>\n",
       "      <td>MS</td>\n",
       "      <td>169690797.0</td>\n",
       "    </tr>\n",
       "    <tr>\n",
       "      <th>...</th>\n",
       "      <td>...</td>\n",
       "      <td>...</td>\n",
       "    </tr>\n",
       "    <tr>\n",
       "      <th>2919926.0</th>\n",
       "      <td>BA</td>\n",
       "      <td>15.0</td>\n",
       "    </tr>\n",
       "    <tr>\n",
       "      <th>3500600.0</th>\n",
       "      <td>SP</td>\n",
       "      <td>8.0</td>\n",
       "    </tr>\n",
       "    <tr>\n",
       "      <th>2912608.0</th>\n",
       "      <td>BA</td>\n",
       "      <td>6.0</td>\n",
       "    </tr>\n",
       "    <tr>\n",
       "      <th>4203253.0</th>\n",
       "      <td>SC</td>\n",
       "      <td>5.0</td>\n",
       "    </tr>\n",
       "    <tr>\n",
       "      <th>2508505.0</th>\n",
       "      <td>PB</td>\n",
       "      <td>0.0</td>\n",
       "    </tr>\n",
       "  </tbody>\n",
       "</table>\n",
       "<p>4319 rows × 2 columns</p>\n",
       "</div>"
      ],
      "text/plain": [
       "           UF         Valor\n",
       "3550308.0  SP  2550654348.0\n",
       "3106200.0  MG   345302536.0\n",
       "3304557.0  RJ   222076641.0\n",
       "3548708.0  SP   205256422.0\n",
       "5002704.0  MS   169690797.0\n",
       "...        ..           ...\n",
       "2919926.0  BA          15.0\n",
       "3500600.0  SP           8.0\n",
       "2912608.0  BA           6.0\n",
       "4203253.0  SC           5.0\n",
       "2508505.0  PB           0.0\n",
       "\n",
       "[4319 rows x 2 columns]"
      ]
     },
     "execution_count": 17,
     "metadata": {},
     "output_type": "execute_result"
    }
   ],
   "source": [
    "df_valor_2013"
   ]
  },
  {
   "cell_type": "code",
   "execution_count": 18,
   "metadata": {
    "colab": {
     "base_uri": "https://localhost:8080/",
     "height": 424
    },
    "id": "sLVZMkLC4-b5",
    "outputId": "96da0035-954d-4437-e482-9b7939358540"
   },
   "outputs": [
    {
     "name": "stderr",
     "output_type": "stream",
     "text": [
      "<ipython-input-18-51d5d33dfe79>:2: SettingWithCopyWarning: \n",
      "A value is trying to be set on a copy of a slice from a DataFrame.\n",
      "Try using .loc[row_indexer,col_indexer] = value instead\n",
      "\n",
      "See the caveats in the documentation: https://pandas.pydata.org/pandas-docs/stable/user_guide/indexing.html#returning-a-view-versus-a-copy\n",
      "  df_crescimento[\"Variacao\"] = (df_valor_2021[\"Valor\"] - df_valor_2013[\"Valor\"])\n"
     ]
    },
    {
     "data": {
      "text/html": [
       "<div>\n",
       "<style scoped>\n",
       "    .dataframe tbody tr th:only-of-type {\n",
       "        vertical-align: middle;\n",
       "    }\n",
       "\n",
       "    .dataframe tbody tr th {\n",
       "        vertical-align: top;\n",
       "    }\n",
       "\n",
       "    .dataframe thead th {\n",
       "        text-align: right;\n",
       "    }\n",
       "</style>\n",
       "<table border=\"1\" class=\"dataframe\">\n",
       "  <thead>\n",
       "    <tr style=\"text-align: right;\">\n",
       "      <th></th>\n",
       "      <th>UF</th>\n",
       "      <th>Valor</th>\n",
       "      <th>Variacao</th>\n",
       "    </tr>\n",
       "  </thead>\n",
       "  <tbody>\n",
       "    <tr>\n",
       "      <th>3550308.0</th>\n",
       "      <td>SP</td>\n",
       "      <td>2550654348.0</td>\n",
       "      <td>2773615651.0</td>\n",
       "    </tr>\n",
       "    <tr>\n",
       "      <th>5208707.0</th>\n",
       "      <td>GO</td>\n",
       "      <td>65903937.0</td>\n",
       "      <td>215052365.0</td>\n",
       "    </tr>\n",
       "    <tr>\n",
       "      <th>2927408.0</th>\n",
       "      <td>BA</td>\n",
       "      <td>95986687.0</td>\n",
       "      <td>152431953.0</td>\n",
       "    </tr>\n",
       "    <tr>\n",
       "      <th>3509502.0</th>\n",
       "      <td>SP</td>\n",
       "      <td>1028537.0</td>\n",
       "      <td>140878065.0</td>\n",
       "    </tr>\n",
       "    <tr>\n",
       "      <th>3549904.0</th>\n",
       "      <td>SP</td>\n",
       "      <td>53832966.0</td>\n",
       "      <td>133706355.0</td>\n",
       "    </tr>\n",
       "    <tr>\n",
       "      <th>...</th>\n",
       "      <td>...</td>\n",
       "      <td>...</td>\n",
       "      <td>...</td>\n",
       "    </tr>\n",
       "    <tr>\n",
       "      <th>3300258.0</th>\n",
       "      <td>RJ</td>\n",
       "      <td>512185.0</td>\n",
       "      <td>NaN</td>\n",
       "    </tr>\n",
       "    <tr>\n",
       "      <th>3545100.0</th>\n",
       "      <td>SP</td>\n",
       "      <td>510545.0</td>\n",
       "      <td>NaN</td>\n",
       "    </tr>\n",
       "    <tr>\n",
       "      <th>3305158.0</th>\n",
       "      <td>RJ</td>\n",
       "      <td>506113.0</td>\n",
       "      <td>NaN</td>\n",
       "    </tr>\n",
       "    <tr>\n",
       "      <th>4204194.0</th>\n",
       "      <td>SC</td>\n",
       "      <td>505591.0</td>\n",
       "      <td>NaN</td>\n",
       "    </tr>\n",
       "    <tr>\n",
       "      <th>3204005.0</th>\n",
       "      <td>ES</td>\n",
       "      <td>500000.0</td>\n",
       "      <td>NaN</td>\n",
       "    </tr>\n",
       "  </tbody>\n",
       "</table>\n",
       "<p>2231 rows × 3 columns</p>\n",
       "</div>"
      ],
      "text/plain": [
       "           UF         Valor      Variacao\n",
       "3550308.0  SP  2550654348.0  2773615651.0\n",
       "5208707.0  GO    65903937.0   215052365.0\n",
       "2927408.0  BA    95986687.0   152431953.0\n",
       "3509502.0  SP     1028537.0   140878065.0\n",
       "3549904.0  SP    53832966.0   133706355.0\n",
       "...        ..           ...           ...\n",
       "3300258.0  RJ      512185.0           NaN\n",
       "3545100.0  SP      510545.0           NaN\n",
       "3305158.0  RJ      506113.0           NaN\n",
       "4204194.0  SC      505591.0           NaN\n",
       "3204005.0  ES      500000.0           NaN\n",
       "\n",
       "[2231 rows x 3 columns]"
      ]
     },
     "execution_count": 18,
     "metadata": {},
     "output_type": "execute_result"
    }
   ],
   "source": [
    "df_crescimento = df_valor_2013[df_valor_2013[\"Valor\"] >= 500_000]\n",
    "df_crescimento[\"Variacao\"] = (df_valor_2021[\"Valor\"] - df_valor_2013[\"Valor\"])\n",
    "df_crescimento = df_crescimento.sort_values(by=\"Variacao\", ascending=False)\n",
    "df_crescimento"
   ]
  },
  {
   "cell_type": "code",
   "execution_count": 19,
   "metadata": {},
   "outputs": [
    {
     "name": "stderr",
     "output_type": "stream",
     "text": [
      "<ipython-input-19-f95f8246ea51>:2: UserWarning: Boolean Series key will be reindexed to match DataFrame index.\n",
      "  df_crescimento = df_crescimento[~rows_nan][df_crescimento[\"Valor\"] >= 500_000]\n"
     ]
    },
    {
     "data": {
      "text/html": [
       "<div>\n",
       "<style scoped>\n",
       "    .dataframe tbody tr th:only-of-type {\n",
       "        vertical-align: middle;\n",
       "    }\n",
       "\n",
       "    .dataframe tbody tr th {\n",
       "        vertical-align: top;\n",
       "    }\n",
       "\n",
       "    .dataframe thead th {\n",
       "        text-align: right;\n",
       "    }\n",
       "</style>\n",
       "<table border=\"1\" class=\"dataframe\">\n",
       "  <thead>\n",
       "    <tr style=\"text-align: right;\">\n",
       "      <th></th>\n",
       "      <th>UF</th>\n",
       "      <th>Valor</th>\n",
       "      <th>Variacao</th>\n",
       "    </tr>\n",
       "  </thead>\n",
       "  <tbody>\n",
       "    <tr>\n",
       "      <th>3550308.0</th>\n",
       "      <td>SP</td>\n",
       "      <td>2550654348.0</td>\n",
       "      <td>2773615651.0</td>\n",
       "    </tr>\n",
       "    <tr>\n",
       "      <th>5208707.0</th>\n",
       "      <td>GO</td>\n",
       "      <td>65903937.0</td>\n",
       "      <td>215052365.0</td>\n",
       "    </tr>\n",
       "    <tr>\n",
       "      <th>2927408.0</th>\n",
       "      <td>BA</td>\n",
       "      <td>95986687.0</td>\n",
       "      <td>152431953.0</td>\n",
       "    </tr>\n",
       "    <tr>\n",
       "      <th>3509502.0</th>\n",
       "      <td>SP</td>\n",
       "      <td>1028537.0</td>\n",
       "      <td>140878065.0</td>\n",
       "    </tr>\n",
       "    <tr>\n",
       "      <th>3549904.0</th>\n",
       "      <td>SP</td>\n",
       "      <td>53832966.0</td>\n",
       "      <td>133706355.0</td>\n",
       "    </tr>\n",
       "    <tr>\n",
       "      <th>...</th>\n",
       "      <td>...</td>\n",
       "      <td>...</td>\n",
       "      <td>...</td>\n",
       "    </tr>\n",
       "    <tr>\n",
       "      <th>3302007.0</th>\n",
       "      <td>RJ</td>\n",
       "      <td>23548220.0</td>\n",
       "      <td>-21150818.0</td>\n",
       "    </tr>\n",
       "    <tr>\n",
       "      <th>3301009.0</th>\n",
       "      <td>RJ</td>\n",
       "      <td>51621554.0</td>\n",
       "      <td>-49803520.0</td>\n",
       "    </tr>\n",
       "    <tr>\n",
       "      <th>2111300.0</th>\n",
       "      <td>MA</td>\n",
       "      <td>76269683.0</td>\n",
       "      <td>-52782880.0</td>\n",
       "    </tr>\n",
       "    <tr>\n",
       "      <th>3552205.0</th>\n",
       "      <td>SP</td>\n",
       "      <td>67196520.0</td>\n",
       "      <td>-65981436.0</td>\n",
       "    </tr>\n",
       "    <tr>\n",
       "      <th>3106200.0</th>\n",
       "      <td>MG</td>\n",
       "      <td>345302536.0</td>\n",
       "      <td>-103680687.0</td>\n",
       "    </tr>\n",
       "  </tbody>\n",
       "</table>\n",
       "<p>1985 rows × 3 columns</p>\n",
       "</div>"
      ],
      "text/plain": [
       "           UF         Valor      Variacao\n",
       "3550308.0  SP  2550654348.0  2773615651.0\n",
       "5208707.0  GO    65903937.0   215052365.0\n",
       "2927408.0  BA    95986687.0   152431953.0\n",
       "3509502.0  SP     1028537.0   140878065.0\n",
       "3549904.0  SP    53832966.0   133706355.0\n",
       "...        ..           ...           ...\n",
       "3302007.0  RJ    23548220.0   -21150818.0\n",
       "3301009.0  RJ    51621554.0   -49803520.0\n",
       "2111300.0  MA    76269683.0   -52782880.0\n",
       "3552205.0  SP    67196520.0   -65981436.0\n",
       "3106200.0  MG   345302536.0  -103680687.0\n",
       "\n",
       "[1985 rows x 3 columns]"
      ]
     },
     "execution_count": 19,
     "metadata": {},
     "output_type": "execute_result"
    }
   ],
   "source": [
    "rows_nan = df_crescimento[\"Variacao\"].isin([float(\"nan\")])\n",
    "df_crescimento = df_crescimento[~rows_nan][df_crescimento[\"Valor\"] >= 500_000]\n",
    "df_crescimento"
   ]
  },
  {
   "cell_type": "code",
   "execution_count": 20,
   "metadata": {},
   "outputs": [],
   "source": [
    "df_valor_2013_no_zero = df_valor_2013[df_valor_2013[\"Valor\"] != 0][\"Valor\"]"
   ]
  },
  {
   "cell_type": "code",
   "execution_count": 21,
   "metadata": {},
   "outputs": [
    {
     "data": {
      "text/html": [
       "<div>\n",
       "<style scoped>\n",
       "    .dataframe tbody tr th:only-of-type {\n",
       "        vertical-align: middle;\n",
       "    }\n",
       "\n",
       "    .dataframe tbody tr th {\n",
       "        vertical-align: top;\n",
       "    }\n",
       "\n",
       "    .dataframe thead th {\n",
       "        text-align: right;\n",
       "    }\n",
       "</style>\n",
       "<table border=\"1\" class=\"dataframe\">\n",
       "  <thead>\n",
       "    <tr style=\"text-align: right;\">\n",
       "      <th></th>\n",
       "      <th>UF</th>\n",
       "      <th>Valor</th>\n",
       "      <th>Variacao</th>\n",
       "    </tr>\n",
       "  </thead>\n",
       "  <tbody>\n",
       "    <tr>\n",
       "      <th>3509502.0</th>\n",
       "      <td>SP</td>\n",
       "      <td>1028537.0</td>\n",
       "      <td>136.96937</td>\n",
       "    </tr>\n",
       "    <tr>\n",
       "      <th>4127205.0</th>\n",
       "      <td>PR</td>\n",
       "      <td>550671.0</td>\n",
       "      <td>109.572126</td>\n",
       "    </tr>\n",
       "    <tr>\n",
       "      <th>1506708.0</th>\n",
       "      <td>PA</td>\n",
       "      <td>740441.0</td>\n",
       "      <td>23.676371</td>\n",
       "    </tr>\n",
       "    <tr>\n",
       "      <th>2211001.0</th>\n",
       "      <td>PI</td>\n",
       "      <td>530917.0</td>\n",
       "      <td>22.167263</td>\n",
       "    </tr>\n",
       "    <tr>\n",
       "      <th>2920601.0</th>\n",
       "      <td>BA</td>\n",
       "      <td>537211.0</td>\n",
       "      <td>16.760837</td>\n",
       "    </tr>\n",
       "    <tr>\n",
       "      <th>...</th>\n",
       "      <td>...</td>\n",
       "      <td>...</td>\n",
       "      <td>...</td>\n",
       "    </tr>\n",
       "    <tr>\n",
       "      <th>4304101.0</th>\n",
       "      <td>RS</td>\n",
       "      <td>879012.0</td>\n",
       "      <td>-0.997308</td>\n",
       "    </tr>\n",
       "    <tr>\n",
       "      <th>2913002.0</th>\n",
       "      <td>BA</td>\n",
       "      <td>537211.0</td>\n",
       "      <td>-0.997681</td>\n",
       "    </tr>\n",
       "    <tr>\n",
       "      <th>5218904.0</th>\n",
       "      <td>GO</td>\n",
       "      <td>1313491.0</td>\n",
       "      <td>-0.999287</td>\n",
       "    </tr>\n",
       "    <tr>\n",
       "      <th>3129103.0</th>\n",
       "      <td>MG</td>\n",
       "      <td>509050.0</td>\n",
       "      <td>-0.999312</td>\n",
       "    </tr>\n",
       "    <tr>\n",
       "      <th>2911501.0</th>\n",
       "      <td>BA</td>\n",
       "      <td>1199153.0</td>\n",
       "      <td>-0.999957</td>\n",
       "    </tr>\n",
       "  </tbody>\n",
       "</table>\n",
       "<p>1985 rows × 3 columns</p>\n",
       "</div>"
      ],
      "text/plain": [
       "           UF      Valor    Variacao\n",
       "3509502.0  SP  1028537.0   136.96937\n",
       "4127205.0  PR   550671.0  109.572126\n",
       "1506708.0  PA   740441.0   23.676371\n",
       "2211001.0  PI   530917.0   22.167263\n",
       "2920601.0  BA   537211.0   16.760837\n",
       "...        ..        ...         ...\n",
       "4304101.0  RS   879012.0   -0.997308\n",
       "2913002.0  BA   537211.0   -0.997681\n",
       "5218904.0  GO  1313491.0   -0.999287\n",
       "3129103.0  MG   509050.0   -0.999312\n",
       "2911501.0  BA  1199153.0   -0.999957\n",
       "\n",
       "[1985 rows x 3 columns]"
      ]
     },
     "execution_count": 21,
     "metadata": {},
     "output_type": "execute_result"
    }
   ],
   "source": [
    "df_crescimento[\"Variacao\"] = df_crescimento[\"Variacao\"] / df_valor_2013_no_zero\n",
    "df_crescimento.sort_values(by=\"Variacao\", ascending=False)"
   ]
  },
  {
   "cell_type": "markdown",
   "metadata": {},
   "source": [
    "#### Observação\n",
    "Algumas variações ficaram muito grandes, então retirei as variações maiores ou iguais a 2 para melhorar a vizualização do próximo gráfico."
   ]
  },
  {
   "cell_type": "code",
   "execution_count": 22,
   "metadata": {},
   "outputs": [
    {
     "data": {
      "text/html": [
       "<div>\n",
       "<style scoped>\n",
       "    .dataframe tbody tr th:only-of-type {\n",
       "        vertical-align: middle;\n",
       "    }\n",
       "\n",
       "    .dataframe tbody tr th {\n",
       "        vertical-align: top;\n",
       "    }\n",
       "\n",
       "    .dataframe thead th {\n",
       "        text-align: right;\n",
       "    }\n",
       "</style>\n",
       "<table border=\"1\" class=\"dataframe\">\n",
       "  <thead>\n",
       "    <tr style=\"text-align: right;\">\n",
       "      <th></th>\n",
       "      <th>UF</th>\n",
       "      <th>Valor</th>\n",
       "      <th>Variacao</th>\n",
       "    </tr>\n",
       "  </thead>\n",
       "  <tbody>\n",
       "    <tr>\n",
       "      <th>3105509.0</th>\n",
       "      <td>MG</td>\n",
       "      <td>615253.0</td>\n",
       "      <td>1.995795</td>\n",
       "    </tr>\n",
       "    <tr>\n",
       "      <th>4206306.0</th>\n",
       "      <td>SC</td>\n",
       "      <td>4634247.0</td>\n",
       "      <td>1.984162</td>\n",
       "    </tr>\n",
       "    <tr>\n",
       "      <th>3164407.0</th>\n",
       "      <td>MG</td>\n",
       "      <td>848122.0</td>\n",
       "      <td>1.979615</td>\n",
       "    </tr>\n",
       "    <tr>\n",
       "      <th>4215109.0</th>\n",
       "      <td>SC</td>\n",
       "      <td>1254560.0</td>\n",
       "      <td>1.978633</td>\n",
       "    </tr>\n",
       "    <tr>\n",
       "      <th>3155603.0</th>\n",
       "      <td>MG</td>\n",
       "      <td>971343.0</td>\n",
       "      <td>1.97472</td>\n",
       "    </tr>\n",
       "    <tr>\n",
       "      <th>...</th>\n",
       "      <td>...</td>\n",
       "      <td>...</td>\n",
       "      <td>...</td>\n",
       "    </tr>\n",
       "    <tr>\n",
       "      <th>4304101.0</th>\n",
       "      <td>RS</td>\n",
       "      <td>879012.0</td>\n",
       "      <td>-0.997308</td>\n",
       "    </tr>\n",
       "    <tr>\n",
       "      <th>2913002.0</th>\n",
       "      <td>BA</td>\n",
       "      <td>537211.0</td>\n",
       "      <td>-0.997681</td>\n",
       "    </tr>\n",
       "    <tr>\n",
       "      <th>5218904.0</th>\n",
       "      <td>GO</td>\n",
       "      <td>1313491.0</td>\n",
       "      <td>-0.999287</td>\n",
       "    </tr>\n",
       "    <tr>\n",
       "      <th>3129103.0</th>\n",
       "      <td>MG</td>\n",
       "      <td>509050.0</td>\n",
       "      <td>-0.999312</td>\n",
       "    </tr>\n",
       "    <tr>\n",
       "      <th>2911501.0</th>\n",
       "      <td>BA</td>\n",
       "      <td>1199153.0</td>\n",
       "      <td>-0.999957</td>\n",
       "    </tr>\n",
       "  </tbody>\n",
       "</table>\n",
       "<p>1726 rows × 3 columns</p>\n",
       "</div>"
      ],
      "text/plain": [
       "           UF      Valor  Variacao\n",
       "3105509.0  MG   615253.0  1.995795\n",
       "4206306.0  SC  4634247.0  1.984162\n",
       "3164407.0  MG   848122.0  1.979615\n",
       "4215109.0  SC  1254560.0  1.978633\n",
       "3155603.0  MG   971343.0   1.97472\n",
       "...        ..        ...       ...\n",
       "4304101.0  RS   879012.0 -0.997308\n",
       "2913002.0  BA   537211.0 -0.997681\n",
       "5218904.0  GO  1313491.0 -0.999287\n",
       "3129103.0  MG   509050.0 -0.999312\n",
       "2911501.0  BA  1199153.0 -0.999957\n",
       "\n",
       "[1726 rows x 3 columns]"
      ]
     },
     "execution_count": 22,
     "metadata": {},
     "output_type": "execute_result"
    }
   ],
   "source": [
    "df_crescimento = df_crescimento[(df_crescimento[\"Variacao\"] > -1) & (df_crescimento[\"Variacao\"] < 2)]\n",
    "df_crescimento.sort_values(by=\"Variacao\", ascending=False)"
   ]
  },
  {
   "cell_type": "code",
   "execution_count": 24,
   "metadata": {},
   "outputs": [
    {
     "data": {
      "image/png": "[encoded data removed]",
      "text/plain": [
       "<Figure size 1008x432 with 1 Axes>"
      ]
     },
     "metadata": {},
     "output_type": "display_data"
    }
   ],
   "source": [
    "sns.set(style=\"darkgrid\")\n",
    "plt.figure(figsize=(14,6))\n",
    "for regiao in regioes:\n",
    "    regiao_variacoes = df_crescimento[df_crescimento[\"UF\"].isin(regioes[regiao])][\"Variacao\"]\n",
    "    sns.kdeplot(regiao_variacoes)\n",
    "plt.title(\"Densidade da variação entre as despesas com transporte entre 2000 e 2019\")\n",
    "plt.xlabel(\"variação (%)\", size=15)\n",
    "plt.ylabel(\"densidade\", size=15)\n",
    "plt.legend(regioes, loc=\"upper left\")\n",
    "plt.show()"
   ]
  },
  {
   "cell_type": "markdown",
   "metadata": {},
   "source": [
    "#### Observação\n",
    "Podemos notar que a região Sul foi a que mais concentrou aumento do percentual de despesas de 2000 para 2019. Enquanto a região Norte e Nordeste concentrou uma grande diminuição das suas despesas. As regiões Sudeste e Centro-Oeste tiveram, na maioria dos seus municípios, um aumento menor."
   ]
  }
 ],
 "metadata": {
  "colab": {
   "authorship_tag": "ABX9TyO2P8c41EfP61FzzFtcixDL",
   "collapsed_sections": [],
   "include_colab_link": true,
   "name": "tratamento_dados_finbra.ipynb",
   "provenance": []
  },
  "kernelspec": {
   "display_name": "Python 3",
   "language": "python",
   "name": "python3"
  },
  "language_info": {
   "codemirror_mode": {
    "name": "ipython",
    "version": 3
   },
   "file_extension": ".py",
   "mimetype": "text/x-python",
   "name": "python",
   "nbconvert_exporter": "python",
   "pygments_lexer": "ipython3",
   "version": "3.8.10"
  }
 },
 "nbformat": 4,
 "nbformat_minor": 1
}

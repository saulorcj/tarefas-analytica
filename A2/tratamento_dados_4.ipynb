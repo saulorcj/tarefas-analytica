{
 "cells": [
  {
   "cell_type": "markdown",
   "metadata": {},
   "source": [
    "# Tratamento de Dados 4"
   ]
  },
  {
   "cell_type": "markdown",
   "metadata": {},
   "source": [
    "## Dados sobre tempo médio de deslocamento casa-trabalho assim como de percentual de pessoas que gastam mais de uma hora neste deslocamento para o ano de 2010. \n",
    "Arquivo: [tempo_deslocamento_casa_trabalho](https://basedosdados.org/dataset/br-mobilidados-indicadores?bdm_table=tempo_deslocamento_casa_trabalho)"
   ]
  },
  {
   "cell_type": "code",
   "execution_count": 2,
   "metadata": {},
   "outputs": [],
   "source": [
    "import matplotlib.pyplot as plt\n",
    "import pandas as pd\n",
    "import numpy as np"
   ]
  },
  {
   "cell_type": "code",
   "execution_count": 3,
   "metadata": {},
   "outputs": [],
   "source": [
    "dataset = pd.read_csv(\"../datasets/tempo_deslocamento_casa_trabalho.csv\")"
   ]
  },
  {
   "cell_type": "code",
   "execution_count": 4,
   "metadata": {},
   "outputs": [
    {
     "data": {
      "text/html": [
       "<div>\n",
       "<style scoped>\n",
       "    .dataframe tbody tr th:only-of-type {\n",
       "        vertical-align: middle;\n",
       "    }\n",
       "\n",
       "    .dataframe tbody tr th {\n",
       "        vertical-align: top;\n",
       "    }\n",
       "\n",
       "    .dataframe thead th {\n",
       "        text-align: right;\n",
       "    }\n",
       "</style>\n",
       "<table border=\"1\" class=\"dataframe\">\n",
       "  <thead>\n",
       "    <tr style=\"text-align: right;\">\n",
       "      <th></th>\n",
       "      <th>ano</th>\n",
       "      <th>sigla_uf</th>\n",
       "      <th>id_municipio</th>\n",
       "      <th>tempo_medio_deslocamento</th>\n",
       "      <th>prop_deslocamento_acima_1_hora</th>\n",
       "    </tr>\n",
       "  </thead>\n",
       "  <tbody>\n",
       "    <tr>\n",
       "      <th>0</th>\n",
       "      <td>2010</td>\n",
       "      <td>RO</td>\n",
       "      <td>1100205</td>\n",
       "      <td>28</td>\n",
       "      <td>7.0</td>\n",
       "    </tr>\n",
       "    <tr>\n",
       "      <th>1</th>\n",
       "      <td>2010</td>\n",
       "      <td>AC</td>\n",
       "      <td>1200401</td>\n",
       "      <td>26</td>\n",
       "      <td>5.0</td>\n",
       "    </tr>\n",
       "    <tr>\n",
       "      <th>2</th>\n",
       "      <td>2010</td>\n",
       "      <td>PA</td>\n",
       "      <td>1202400</td>\n",
       "      <td>21</td>\n",
       "      <td>3.0</td>\n",
       "    </tr>\n",
       "    <tr>\n",
       "      <th>3</th>\n",
       "      <td>2010</td>\n",
       "      <td>PA</td>\n",
       "      <td>1206500</td>\n",
       "      <td>25</td>\n",
       "      <td>7.0</td>\n",
       "    </tr>\n",
       "    <tr>\n",
       "      <th>4</th>\n",
       "      <td>2010</td>\n",
       "      <td>AM</td>\n",
       "      <td>1302603</td>\n",
       "      <td>41</td>\n",
       "      <td>17.0</td>\n",
       "    </tr>\n",
       "  </tbody>\n",
       "</table>\n",
       "</div>"
      ],
      "text/plain": [
       "    ano sigla_uf  id_municipio  tempo_medio_deslocamento  \\\n",
       "0  2010       RO       1100205                        28   \n",
       "1  2010       AC       1200401                        26   \n",
       "2  2010       PA       1202400                        21   \n",
       "3  2010       PA       1206500                        25   \n",
       "4  2010       AM       1302603                        41   \n",
       "\n",
       "   prop_deslocamento_acima_1_hora  \n",
       "0                             7.0  \n",
       "1                             5.0  \n",
       "2                             3.0  \n",
       "3                             7.0  \n",
       "4                            17.0  "
      ]
     },
     "execution_count": 4,
     "metadata": {},
     "output_type": "execute_result"
    }
   ],
   "source": [
    "dataset.head()"
   ]
  },
  {
   "cell_type": "code",
   "execution_count": 5,
   "metadata": {},
   "outputs": [
    {
     "data": {
      "text/plain": [
       "array(['RO', 'AC', 'PA', 'AM', 'RR', 'AP', 'TO', 'MA', 'PI', 'CE', 'RN',\n",
       "       'PB', 'PE', 'AL', 'SE', 'BA', 'MG', 'ES', 'RJ', 'SP', 'PR', 'SC',\n",
       "       'RS', 'MS', 'MT', 'GO', 'DF'], dtype=object)"
      ]
     },
     "execution_count": 5,
     "metadata": {},
     "output_type": "execute_result"
    }
   ],
   "source": [
    "estados = dataset[\"sigla_uf\"].unique()\n",
    "estados"
   ]
  },
  {
   "cell_type": "code",
   "execution_count": 6,
   "metadata": {},
   "outputs": [],
   "source": [
    "# HashMap de estados por região\n",
    "regioes = {\"Norte\": {\"PA\", \"RR\", \"AP\", \"AM\", \"TO\", \"RO\", \"AC\", \"MA\"},\n",
    "           \"Nordeste\": {\"SE\", \"CE\", \"PB\", \"AL\", \"RN\", \"PE\", \"BA\", \"PI\"},\n",
    "           \"Sudeste\": {\"MG\", \"RJ\", \"SP\", \"ES\"},\n",
    "           \"Centro-Oeste\": {\"DF\", \"MS\", \"MT\", \"GO\"},\n",
    "           \"Sul\": {\"PR\", \"SC\", \"RS\"}}"
   ]
  },
  {
   "cell_type": "code",
   "execution_count": 7,
   "metadata": {},
   "outputs": [],
   "source": [
    "def get_media_by_regiao(regiao, campo):\n",
    "    \"\"\"\n",
    "    :param regiao: região a ser selecionada\n",
    "    :return: média do percentual de pessoas próximas a redes de transporte\n",
    "    \"\"\"\n",
    "    media = dataset[(dataset[\"sigla_uf\"].isin(regioes[regiao]))][campo].mean()\n",
    "    return media"
   ]
  },
  {
   "cell_type": "markdown",
   "metadata": {},
   "source": [
    "### Analisando as médias de tempo de deslocamento por região"
   ]
  },
  {
   "cell_type": "code",
   "execution_count": 8,
   "metadata": {},
   "outputs": [
    {
     "data": {
      "text/html": [
       "<div>\n",
       "<style scoped>\n",
       "    .dataframe tbody tr th:only-of-type {\n",
       "        vertical-align: middle;\n",
       "    }\n",
       "\n",
       "    .dataframe tbody tr th {\n",
       "        vertical-align: top;\n",
       "    }\n",
       "\n",
       "    .dataframe thead th {\n",
       "        text-align: right;\n",
       "    }\n",
       "</style>\n",
       "<table border=\"1\" class=\"dataframe\">\n",
       "  <thead>\n",
       "    <tr style=\"text-align: right;\">\n",
       "      <th></th>\n",
       "      <th>media_tempo</th>\n",
       "    </tr>\n",
       "  </thead>\n",
       "  <tbody>\n",
       "    <tr>\n",
       "      <th>Sudeste</th>\n",
       "      <td>40.535354</td>\n",
       "    </tr>\n",
       "    <tr>\n",
       "      <th>Sul</th>\n",
       "      <td>33.451613</td>\n",
       "    </tr>\n",
       "    <tr>\n",
       "      <th>Norte</th>\n",
       "      <td>31.928571</td>\n",
       "    </tr>\n",
       "    <tr>\n",
       "      <th>Nordeste</th>\n",
       "      <td>31.480769</td>\n",
       "    </tr>\n",
       "    <tr>\n",
       "      <th>Centro-Oeste</th>\n",
       "      <td>30.424242</td>\n",
       "    </tr>\n",
       "  </tbody>\n",
       "</table>\n",
       "</div>"
      ],
      "text/plain": [
       "              media_tempo\n",
       "Sudeste         40.535354\n",
       "Sul             33.451613\n",
       "Norte           31.928571\n",
       "Nordeste        31.480769\n",
       "Centro-Oeste    30.424242"
      ]
     },
     "execution_count": 8,
     "metadata": {},
     "output_type": "execute_result"
    }
   ],
   "source": [
    "medias_regiao = [get_media_by_regiao(regiao, \"tempo_medio_deslocamento\") for regiao in regioes]\n",
    "pd.DataFrame(medias_regiao, index=regioes, columns=[\"media_tempo\"]).sort_values(by=\"media_tempo\",\n",
    "                                                                                ascending=False)"
   ]
  },
  {
   "cell_type": "markdown",
   "metadata": {},
   "source": [
    "### Analisando as médias da porcentagem deslocamentos com duração acima de 1 hora"
   ]
  },
  {
   "cell_type": "code",
   "execution_count": 9,
   "metadata": {
    "scrolled": true
   },
   "outputs": [
    {
     "data": {
      "text/html": [
       "<div>\n",
       "<style scoped>\n",
       "    .dataframe tbody tr th:only-of-type {\n",
       "        vertical-align: middle;\n",
       "    }\n",
       "\n",
       "    .dataframe tbody tr th {\n",
       "        vertical-align: top;\n",
       "    }\n",
       "\n",
       "    .dataframe thead th {\n",
       "        text-align: right;\n",
       "    }\n",
       "</style>\n",
       "<table border=\"1\" class=\"dataframe\">\n",
       "  <thead>\n",
       "    <tr style=\"text-align: right;\">\n",
       "      <th></th>\n",
       "      <th>media_prop</th>\n",
       "    </tr>\n",
       "  </thead>\n",
       "  <tbody>\n",
       "    <tr>\n",
       "      <th>Sudeste</th>\n",
       "      <td>21.323232</td>\n",
       "    </tr>\n",
       "    <tr>\n",
       "      <th>Sul</th>\n",
       "      <td>14.258065</td>\n",
       "    </tr>\n",
       "    <tr>\n",
       "      <th>Centro-Oeste</th>\n",
       "      <td>13.272727</td>\n",
       "    </tr>\n",
       "    <tr>\n",
       "      <th>Nordeste</th>\n",
       "      <td>11.846486</td>\n",
       "    </tr>\n",
       "    <tr>\n",
       "      <th>Norte</th>\n",
       "      <td>11.242763</td>\n",
       "    </tr>\n",
       "  </tbody>\n",
       "</table>\n",
       "</div>"
      ],
      "text/plain": [
       "              media_prop\n",
       "Sudeste        21.323232\n",
       "Sul            14.258065\n",
       "Centro-Oeste   13.272727\n",
       "Nordeste       11.846486\n",
       "Norte          11.242763"
      ]
     },
     "execution_count": 9,
     "metadata": {},
     "output_type": "execute_result"
    }
   ],
   "source": [
    "medias_regiao = [get_media_by_regiao(regiao, \"prop_deslocamento_acima_1_hora\") \n",
    "                 for regiao in regioes]\n",
    "pd.DataFrame(medias_regiao, index=regioes, columns=[\"media_prop\"]).sort_values(by=\"media_prop\",\n",
    "                                                                               ascending=False)"
   ]
  },
  {
   "cell_type": "markdown",
   "metadata": {},
   "source": [
    "### Tabela com código e nome dos municípios"
   ]
  },
  {
   "cell_type": "code",
   "execution_count": 12,
   "metadata": {},
   "outputs": [],
   "source": [
    "id_municipio = pd.read_csv(\"../outros/RELATORIO_DTB_BRASIL_MUNICIPIO.csv\")[[\"Código Município Completo\", \n",
    "                                                                              \"Nome_Município\"]]"
   ]
  },
  {
   "cell_type": "code",
   "execution_count": 13,
   "metadata": {},
   "outputs": [
    {
     "data": {
      "text/html": [
       "<div>\n",
       "<style scoped>\n",
       "    .dataframe tbody tr th:only-of-type {\n",
       "        vertical-align: middle;\n",
       "    }\n",
       "\n",
       "    .dataframe tbody tr th {\n",
       "        vertical-align: top;\n",
       "    }\n",
       "\n",
       "    .dataframe thead th {\n",
       "        text-align: right;\n",
       "    }\n",
       "</style>\n",
       "<table border=\"1\" class=\"dataframe\">\n",
       "  <thead>\n",
       "    <tr style=\"text-align: right;\">\n",
       "      <th></th>\n",
       "      <th>id_municipio</th>\n",
       "      <th>nome_municipio</th>\n",
       "    </tr>\n",
       "  </thead>\n",
       "  <tbody>\n",
       "    <tr>\n",
       "      <th>0</th>\n",
       "      <td>1100015</td>\n",
       "      <td>Alta Floresta D'Oeste</td>\n",
       "    </tr>\n",
       "    <tr>\n",
       "      <th>1</th>\n",
       "      <td>1100379</td>\n",
       "      <td>Alto Alegre dos Parecis</td>\n",
       "    </tr>\n",
       "    <tr>\n",
       "      <th>2</th>\n",
       "      <td>1100403</td>\n",
       "      <td>Alto Paraíso</td>\n",
       "    </tr>\n",
       "    <tr>\n",
       "      <th>3</th>\n",
       "      <td>1100346</td>\n",
       "      <td>Alvorada D'Oeste</td>\n",
       "    </tr>\n",
       "    <tr>\n",
       "      <th>4</th>\n",
       "      <td>1100023</td>\n",
       "      <td>Ariquemes</td>\n",
       "    </tr>\n",
       "  </tbody>\n",
       "</table>\n",
       "</div>"
      ],
      "text/plain": [
       "   id_municipio           nome_municipio\n",
       "0       1100015    Alta Floresta D'Oeste\n",
       "1       1100379  Alto Alegre dos Parecis\n",
       "2       1100403             Alto Paraíso\n",
       "3       1100346         Alvorada D'Oeste\n",
       "4       1100023                Ariquemes"
      ]
     },
     "execution_count": 13,
     "metadata": {},
     "output_type": "execute_result"
    }
   ],
   "source": [
    "id_municipio.columns = [\"id_municipio\", \"nome_municipio\"]\n",
    "id_municipio.head()"
   ]
  },
  {
   "cell_type": "code",
   "execution_count": 14,
   "metadata": {},
   "outputs": [],
   "source": [
    "maiores_tempo = dataset.sort_values(by=\"tempo_medio_deslocamento\", ascending=False)[:5]"
   ]
  },
  {
   "cell_type": "code",
   "execution_count": 15,
   "metadata": {},
   "outputs": [
    {
     "data": {
      "text/html": [
       "<div>\n",
       "<style scoped>\n",
       "    .dataframe tbody tr th:only-of-type {\n",
       "        vertical-align: middle;\n",
       "    }\n",
       "\n",
       "    .dataframe tbody tr th {\n",
       "        vertical-align: top;\n",
       "    }\n",
       "\n",
       "    .dataframe thead th {\n",
       "        text-align: right;\n",
       "    }\n",
       "</style>\n",
       "<table border=\"1\" class=\"dataframe\">\n",
       "  <thead>\n",
       "    <tr style=\"text-align: right;\">\n",
       "      <th></th>\n",
       "      <th>ano</th>\n",
       "      <th>sigla_uf</th>\n",
       "      <th>id_municipio</th>\n",
       "      <th>tempo_medio_deslocamento</th>\n",
       "      <th>prop_deslocamento_acima_1_hora</th>\n",
       "    </tr>\n",
       "  </thead>\n",
       "  <tbody>\n",
       "    <tr>\n",
       "      <th>111</th>\n",
       "      <td>2010</td>\n",
       "      <td>RJ</td>\n",
       "      <td>3302270</td>\n",
       "      <td>67</td>\n",
       "      <td>53.0</td>\n",
       "    </tr>\n",
       "    <tr>\n",
       "      <th>137</th>\n",
       "      <td>2010</td>\n",
       "      <td>SP</td>\n",
       "      <td>3516309</td>\n",
       "      <td>66</td>\n",
       "      <td>54.0</td>\n",
       "    </tr>\n",
       "    <tr>\n",
       "      <th>136</th>\n",
       "      <td>2010</td>\n",
       "      <td>SP</td>\n",
       "      <td>3515707</td>\n",
       "      <td>60</td>\n",
       "      <td>47.0</td>\n",
       "    </tr>\n",
       "    <tr>\n",
       "      <th>119</th>\n",
       "      <td>2010</td>\n",
       "      <td>RJ</td>\n",
       "      <td>3304144</td>\n",
       "      <td>60</td>\n",
       "      <td>46.0</td>\n",
       "    </tr>\n",
       "    <tr>\n",
       "      <th>105</th>\n",
       "      <td>2010</td>\n",
       "      <td>RJ</td>\n",
       "      <td>3300456</td>\n",
       "      <td>59</td>\n",
       "      <td>43.0</td>\n",
       "    </tr>\n",
       "  </tbody>\n",
       "</table>\n",
       "</div>"
      ],
      "text/plain": [
       "      ano sigla_uf  id_municipio  tempo_medio_deslocamento  \\\n",
       "111  2010       RJ       3302270                        67   \n",
       "137  2010       SP       3516309                        66   \n",
       "136  2010       SP       3515707                        60   \n",
       "119  2010       RJ       3304144                        60   \n",
       "105  2010       RJ       3300456                        59   \n",
       "\n",
       "     prop_deslocamento_acima_1_hora  \n",
       "111                            53.0  \n",
       "137                            54.0  \n",
       "136                            47.0  \n",
       "119                            46.0  \n",
       "105                            43.0  "
      ]
     },
     "execution_count": 15,
     "metadata": {},
     "output_type": "execute_result"
    }
   ],
   "source": [
    "maiores_tempo"
   ]
  },
  {
   "cell_type": "code",
   "execution_count": 16,
   "metadata": {},
   "outputs": [],
   "source": [
    "maiores_prop = dataset.sort_values(by=\"prop_deslocamento_acima_1_hora\", ascending=False)[:5]"
   ]
  },
  {
   "cell_type": "code",
   "execution_count": 17,
   "metadata": {},
   "outputs": [
    {
     "data": {
      "text/html": [
       "<div>\n",
       "<style scoped>\n",
       "    .dataframe tbody tr th:only-of-type {\n",
       "        vertical-align: middle;\n",
       "    }\n",
       "\n",
       "    .dataframe tbody tr th {\n",
       "        vertical-align: top;\n",
       "    }\n",
       "\n",
       "    .dataframe thead th {\n",
       "        text-align: right;\n",
       "    }\n",
       "</style>\n",
       "<table border=\"1\" class=\"dataframe\">\n",
       "  <thead>\n",
       "    <tr style=\"text-align: right;\">\n",
       "      <th></th>\n",
       "      <th>ano</th>\n",
       "      <th>sigla_uf</th>\n",
       "      <th>id_municipio</th>\n",
       "      <th>tempo_medio_deslocamento</th>\n",
       "      <th>prop_deslocamento_acima_1_hora</th>\n",
       "    </tr>\n",
       "  </thead>\n",
       "  <tbody>\n",
       "    <tr>\n",
       "      <th>137</th>\n",
       "      <td>2010</td>\n",
       "      <td>SP</td>\n",
       "      <td>3516309</td>\n",
       "      <td>66</td>\n",
       "      <td>54.0</td>\n",
       "    </tr>\n",
       "    <tr>\n",
       "      <th>111</th>\n",
       "      <td>2010</td>\n",
       "      <td>RJ</td>\n",
       "      <td>3302270</td>\n",
       "      <td>67</td>\n",
       "      <td>53.0</td>\n",
       "    </tr>\n",
       "    <tr>\n",
       "      <th>136</th>\n",
       "      <td>2010</td>\n",
       "      <td>SP</td>\n",
       "      <td>3515707</td>\n",
       "      <td>60</td>\n",
       "      <td>47.0</td>\n",
       "    </tr>\n",
       "    <tr>\n",
       "      <th>119</th>\n",
       "      <td>2010</td>\n",
       "      <td>RJ</td>\n",
       "      <td>3304144</td>\n",
       "      <td>60</td>\n",
       "      <td>46.0</td>\n",
       "    </tr>\n",
       "    <tr>\n",
       "      <th>221</th>\n",
       "      <td>2010</td>\n",
       "      <td>GO</td>\n",
       "      <td>5217609</td>\n",
       "      <td>55</td>\n",
       "      <td>45.0</td>\n",
       "    </tr>\n",
       "  </tbody>\n",
       "</table>\n",
       "</div>"
      ],
      "text/plain": [
       "      ano sigla_uf  id_municipio  tempo_medio_deslocamento  \\\n",
       "137  2010       SP       3516309                        66   \n",
       "111  2010       RJ       3302270                        67   \n",
       "136  2010       SP       3515707                        60   \n",
       "119  2010       RJ       3304144                        60   \n",
       "221  2010       GO       5217609                        55   \n",
       "\n",
       "     prop_deslocamento_acima_1_hora  \n",
       "137                            54.0  \n",
       "111                            53.0  \n",
       "136                            47.0  \n",
       "119                            46.0  \n",
       "221                            45.0  "
      ]
     },
     "execution_count": 17,
     "metadata": {},
     "output_type": "execute_result"
    }
   ],
   "source": [
    "maiores_prop"
   ]
  },
  {
   "cell_type": "code",
   "execution_count": null,
   "metadata": {},
   "outputs": [],
   "source": []
  }
 ],
 "metadata": {
  "kernelspec": {
   "display_name": "Python 3",
   "language": "python",
   "name": "python3"
  },
  "language_info": {
   "codemirror_mode": {
    "name": "ipython",
    "version": 3
   },
   "file_extension": ".py",
   "mimetype": "text/x-python",
   "name": "python",
   "nbconvert_exporter": "python",
   "pygments_lexer": "ipython3",
   "version": "3.8.10"
  }
 },
 "nbformat": 4,
 "nbformat_minor": 5
}
